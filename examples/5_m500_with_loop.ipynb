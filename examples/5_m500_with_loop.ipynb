{
 "cells": [
  {
   "cell_type": "raw",
   "metadata": {
    "slideshow": {
     "slide_type": "slide"
    }
   },
   "source": [
    "## Import your stuff"
   ]
  },
  {
   "cell_type": "code",
   "execution_count": 1,
   "metadata": {
    "slideshow": {
     "slide_type": "-"
    }
   },
   "outputs": [
    {
     "name": "stdout",
     "output_type": "stream",
     "text": [
      "WARNING:tensorflow:From /home/aizhana/.conda/envs/fast-mpi4py/lib/python3.7/site-packages/pydelfi/train.py:9: The name tf.train.AdamOptimizer is deprecated. Please use tf.compat.v1.train.AdamOptimizer instead.\n",
      "\n"
     ]
    }
   ],
   "source": [
    "import numpy as np\n",
    "import simulators.jla_supernovae.jla_simulator as jla\n",
    "import pydelfi.ndes as ndes\n",
    "import pydelfi.delfi as delfi\n",
    "import pydelfi.score as score\n",
    "import pydelfi.priors as priors\n",
    "import tensorflow as tf\n",
    "tf.logging.set_verbosity(tf.logging.ERROR)\n",
    "%matplotlib inline"
   ]
  },
  {
   "cell_type": "code",
   "execution_count": 2,
   "metadata": {},
   "outputs": [
    {
     "name": "stdout",
     "output_type": "stream",
     "text": [
      "CCL version you are using: 2.1.0\n"
     ]
    }
   ],
   "source": [
    "import pylab as plt\n",
    "import pyccl as ccl\n",
    "import scipy\n",
    "from scipy.interpolate import interp1d\n",
    "\n",
    "import matplotlib\n",
    "%matplotlib inline\n",
    "\n",
    "import time\n",
    "import importlib\n",
    "\n",
    "print(\"CCL version you are using:\",ccl.__version__)"
   ]
  },
  {
   "cell_type": "code",
   "execution_count": 3,
   "metadata": {},
   "outputs": [],
   "source": [
    "font_config = {\"size\" : 10,\n",
    "               \"family\" : \"serif\"}\n",
    "\n",
    "matplotlib.rc(\"font\", **font_config)\n",
    "matplotlib.rc(\"text\", usetex=True)\n",
    "# Move title to make space for exponents of y axis\n",
    "matplotlib.rc(\"axes\", titlepad=5) \n",
    "matplotlib.rc(\"axes\", titlesize=\"medium\") \n",
    "\n",
    "# Make the figures bigger in the notebook\n",
    "matplotlib.rc(\"figure\", dpi=150)\n",
    "\n",
    "color_map = plt.get_cmap(\"tab10\")\n",
    "\n",
    "paper_textwidth = 7.125\n",
    "fig_size = (paper_textwidth/2, 2.6)\n",
    "\n",
    "plot_adjust = dict(left=0.2, top=0.9, bottom=0.2)"
   ]
  },
  {
   "cell_type": "code",
   "execution_count": 4,
   "metadata": {},
   "outputs": [
    {
     "data": {
      "text/plain": [
       "<module 'simulators.mass_function_n_counts.simulator_trapz_m500' from '/home/aizhana/pydelfi_cluster_counts/examples/simulators/mass_function_n_counts/simulator_trapz_m500.py'>"
      ]
     },
     "execution_count": 4,
     "metadata": {},
     "output_type": "execute_result"
    }
   ],
   "source": [
    "import simulators.mass_function_n_counts.simulator_trapz_m500 as n_counts_simulator\n",
    "importlib.reload(n_counts_simulator)"
   ]
  },
  {
   "cell_type": "markdown",
   "metadata": {},
   "source": [
    "## Set up priors on params of interest (for now): {$\\Omega_{m}h^{2} = \\Omega_{cdm}h^{2} + \\Omega_{b}h^{2}$, $\\sigma_{8}$, $h$, $n_{s}$, $w_{0}$}"
   ]
  },
  {
   "cell_type": "code",
   "execution_count": 5,
   "metadata": {},
   "outputs": [],
   "source": [
    "lower = np.array([0.1125, 0.020, 0.6])\n",
    "upper = np.array([0.1275, 0.024, 1.1])\n",
    "prior = priors.Uniform(lower, upper)"
   ]
  },
  {
   "cell_type": "code",
   "execution_count": 6,
   "metadata": {},
   "outputs": [],
   "source": [
    "theta_fiducial = np.array([0.1197, 0.02222, 0.76])\n"
   ]
  },
  {
   "cell_type": "markdown",
   "metadata": {},
   "source": [
    "## Define mass calibration parameters"
   ]
  },
  {
   "cell_type": "code",
   "execution_count": 7,
   "metadata": {},
   "outputs": [],
   "source": [
    "mass_calibration_param_names = ['\\\\alpha_{Y}', '\\\\beta_{Y}', '\\\\gamma_{Y}', 'Y_{*}', 'M_{*}', \n",
    "                                '\\\\alpha_{\\sigma}', '\\\\gamma_{\\sigma}', '\\\\sigma_{log Y_{0}}']\n",
    "theta_fiducial_mass_calibration = np.array([1.8, 0., 0., 2.4e-10, 1e14, 0., 0., 0.127])"
   ]
  },
  {
   "cell_type": "code",
   "execution_count": 8,
   "metadata": {},
   "outputs": [
    {
     "name": "stdout",
     "output_type": "stream",
     "text": [
      "0.52322252 s\n"
     ]
    }
   ],
   "source": [
    "N_countsSimulator = n_counts_simulator.Model()"
   ]
  },
  {
   "cell_type": "markdown",
   "metadata": {},
   "source": [
    "## Get Cosmology and HMF "
   ]
  },
  {
   "cell_type": "code",
   "execution_count": 9,
   "metadata": {},
   "outputs": [],
   "source": [
    "# Define a mass definition object\n",
    "hm_def = ccl.halos.MassDef(500, 'critical')\n",
    "cosmo_ccl = N_countsSimulator.cosmo(theta_fiducial)\n",
    "nM = ccl.halos.MassFuncTinker08(cosmo_ccl, mass_def=hm_def)"
   ]
  },
  {
   "cell_type": "code",
   "execution_count": 10,
   "metadata": {},
   "outputs": [],
   "source": [
    "def compute_mass_calibration_params(theta_mass_calibration, M_500, z):\n",
    "    t1 = time.process_time()\n",
    "    alpha_Y = theta_mass_calibration[0]\n",
    "    beta_Y = theta_mass_calibration[1]\n",
    "    gamma_Y = theta_mass_calibration[2]\n",
    "    \n",
    "    Y_star = theta_mass_calibration[3]\n",
    "    M_star = theta_mass_calibration[4]\n",
    "    \n",
    "    alpha_sigma = theta_mass_calibration[5]\n",
    "    gamma_sigma = theta_mass_calibration[6]\n",
    "    sigma_logY0 = theta_mass_calibration[7]\n",
    "    \n",
    "    scale_fact_a = 1/(1+z)\n",
    "    #t2 = time.process_time()\n",
    "    \n",
    "    E_z = (ccl.background.h_over_h0(cosmo_ccl, scale_fact_a)**(2/3))\n",
    "    if ccl.background.comoving_radial_distance(cosmo_ccl, scale_fact_a) == 0:\n",
    "        D_A_z = 0.\n",
    "    else:\n",
    "        D_A_z = (ccl.background.comoving_radial_distance(cosmo_ccl, scale_fact_a)/100)**(-2)\n",
    "   \n",
    "    mean_Y_500 = Y_star*((M_500/M_star)**alpha_Y)*np.exp(beta_Y*(np.log10(M_500/M_star)**2))*((1+z)**gamma_Y)*E_z*D_A_z\n",
    "    \n",
    "    sigma_logY_500 = sigma_logY0*((M_500/M_star)**alpha_sigma)*((1+z)**gamma_sigma)\n",
    "    \n",
    "    t2 = time.process_time()\n",
    "    #print(t2 - t1)\n",
    "    return mean_Y_500, sigma_logY_500"
   ]
  },
  {
   "cell_type": "code",
   "execution_count": 11,
   "metadata": {},
   "outputs": [],
   "source": [
    "def compute_probability_Y_500(theta_mass_calibration, Y_500_true, M_500, z):\n",
    "    t1 = time.process_time()\n",
    "    \n",
    "    mean_Y_500, sigma_logY_500 = compute_mass_calibration_params(theta_mass_calibration, M_500, z)\n",
    "    \n",
    "    prob_Y_500_true = np.exp(-((np.log10(Y_500_true) - np.log10(mean_Y_500))**2)/(2*(sigma_logY_500**2)))/(np.sqrt(2*np.pi)*sigma_logY_500)\n",
    "    \n",
    "    t2 = time.process_time()\n",
    "    #print(t2 - t1)\n",
    "    return prob_Y_500_true"
   ]
  },
  {
   "cell_type": "code",
   "execution_count": 12,
   "metadata": {},
   "outputs": [
    {
     "data": {
      "text/plain": [
       "3.136997944522371"
      ]
     },
     "execution_count": 12,
     "metadata": {},
     "output_type": "execute_result"
    }
   ],
   "source": [
    "mean_Y_500, sigma_logY_500 = compute_mass_calibration_params(theta_fiducial_mass_calibration, 1e15, 0.5)\n",
    "compute_probability_Y_500(theta_fiducial_mass_calibration, 5e-11, 1e15, 0.5)"
   ]
  },
  {
   "cell_type": "code",
   "execution_count": 13,
   "metadata": {},
   "outputs": [],
   "source": [
    "def Y_500_trapz(theta_mass_calibration, M_500, z, Y_min, Y_max, n_steps_Y = 1000):\n",
    "    t1 = time.process_time()\n",
    "    \n",
    "    Y_steps = np.linspace(Y_min, Y_max, num=n_steps_Y)\n",
    "    p_Y_true = np.array([compute_probability_Y_500(theta_mass_calibration, Y_500_true, M_500, z)/Y_500_true for Y_500_true in Y_steps])\n",
    "    #p_Y_true = np.array([compute_probability_Y_500(theta_mass_calibration, Y_500_true, M_500, z) for Y_500_true in Y_steps])\n",
    "    \n",
    "    \n",
    "    integral_trapz = np.trapz(p_Y_true, Y_steps)\n",
    "    \n",
    "    t2 = time.process_time()\n",
    "    #print(t2 - t1)\n",
    "    return integral_trapz"
   ]
  },
  {
   "cell_type": "code",
   "execution_count": 14,
   "metadata": {},
   "outputs": [],
   "source": [
    "p_Y_true = Y_500_trapz(theta_fiducial_mass_calibration, 1e15, 0.5, 3e-11, 5e-11, n_steps_Y = 1000)"
   ]
  },
  {
   "cell_type": "markdown",
   "metadata": {},
   "source": [
    "## Compute number counts with a loop"
   ]
  },
  {
   "cell_type": "code",
   "execution_count": 15,
   "metadata": {},
   "outputs": [],
   "source": [
    "z_min = np.array([0., 0.25, 0.5, 0.75, 1.])\n",
    "z_max = np.array([0.25, 0.5, 0.75, 1., 1.5])\n",
    "n_steps_z = 100\n",
    "n_bins_z = len(z_min)"
   ]
  },
  {
   "cell_type": "code",
   "execution_count": 16,
   "metadata": {},
   "outputs": [],
   "source": [
    "Y_bins_limits = [np.logspace(np.log10(8.6e-12), np.log10(3.9e-9), num = 16),\n",
    "                 np.logspace(np.log10(4.3e-12), np.log10(5.1e-10), num = 15),\n",
    "                 np.logspace(np.log10(3.1e-12), np.log10(1.8e-10), num = 16),\n",
    "                 np.logspace(np.log10(3.1e-12), np.log10(1.1e-10), num = 14),\n",
    "                 np.logspace(np.log10(2.5e-12), np.log10(6.6e-11), num = 13)]"
   ]
  },
  {
   "cell_type": "code",
   "execution_count": 17,
   "metadata": {},
   "outputs": [],
   "source": [
    "n_steps_M_500 = 100\n",
    "log10_M_500_steps = np.linspace(6, 16, num = n_steps_M_500)\n",
    "M_500_steps = 10**log10_M_500_steps"
   ]
  },
  {
   "cell_type": "code",
   "execution_count": 18,
   "metadata": {},
   "outputs": [
    {
     "name": "stderr",
     "output_type": "stream",
     "text": [
      "/home/aizhana/.conda/envs/fast-mpi4py/lib/python3.7/site-packages/ipykernel_launcher.py:6: RuntimeWarning: divide by zero encountered in log10\n",
      "  \n"
     ]
    },
    {
     "name": "stdout",
     "output_type": "stream",
     "text": [
      "0 0\n",
      "0 1\n",
      "0 2\n",
      "0 3\n",
      "0 4\n",
      "0 5\n",
      "0 6\n",
      "0 7\n",
      "0 8\n",
      "0 9\n",
      "0 10\n",
      "0 11\n",
      "0 12\n",
      "0 13\n",
      "0 14\n",
      "1 0\n",
      "1 1\n",
      "1 2\n",
      "1 3\n",
      "1 4\n",
      "1 5\n",
      "1 6\n",
      "1 7\n",
      "1 8\n",
      "1 9\n",
      "1 10\n",
      "1 11\n",
      "1 12\n",
      "1 13\n",
      "2 0\n",
      "2 1\n",
      "2 2\n",
      "2 3\n",
      "2 4\n",
      "2 5\n",
      "2 6\n",
      "2 7\n",
      "2 8\n",
      "2 9\n",
      "2 10\n",
      "2 11\n",
      "2 12\n",
      "2 13\n",
      "2 14\n",
      "3 0\n",
      "3 1\n",
      "3 2\n",
      "3 3\n",
      "3 4\n",
      "3 5\n",
      "3 6\n",
      "3 7\n",
      "3 8\n",
      "3 9\n",
      "3 10\n",
      "3 11\n",
      "3 12\n",
      "4 0\n",
      "4 1\n",
      "4 2\n",
      "4 3\n",
      "4 4\n",
      "4 5\n",
      "4 6\n",
      "4 7\n",
      "4 8\n",
      "4 9\n",
      "4 10\n",
      "4 11\n"
     ]
    }
   ],
   "source": [
    "H0 = 100 * 0.69\n",
    "c = ccl.physical_constants.CLIGHT * 1e-3  # in km/s\n",
    "counts = []\n",
    "for n in range(n_bins_z):\n",
    "    z_steps = np.linspace(z_min[n], z_max[n], num = n_steps_z)\n",
    "        \n",
    "    scale_fact_a = 1 / (1 + z_steps)\n",
    "    H_z = H0 * ccl.background.h_over_h0(cosmo_ccl, scale_fact_a)\n",
    "    factor = 4 * np.pi * (c / H_z) * (ccl.background.comoving_radial_distance(cosmo_ccl, scale_fact_a) ** 2)\n",
    "       \n",
    "    \n",
    "    for k in range(len(Y_bins_limits[n]) - 1):\n",
    "        dZ = []\n",
    "        for i in range(n_steps_z):\n",
    "            a = 1/(1+z_steps[i])\n",
    "            hmf = nM.get_mass_function(cosmo_ccl, M_500_steps, a)\n",
    "            \n",
    "            Y_500_dM = []\n",
    "            \n",
    "            for j in range(n_steps_M_500):\n",
    "                Y_500_integral = Y_500_trapz(theta_fiducial_mass_calibration, M_500_steps[j], z_steps[i], \n",
    "                                             Y_bins_limits[n][k], Y_bins_limits[n][k+1], n_steps_Y = 100)\n",
    "                Y_500_dM.append(Y_500_integral)\n",
    "            \n",
    "            Y_500_dM = np.array(Y_500_dM)\n",
    "            dn_dM = hmf*Y_500_dM\n",
    "            M_500_integral = np.trapz(dn_dM, log10_M_500_steps)\n",
    "            \n",
    "            dZ.append(M_500_integral*factor[i])\n",
    "            \n",
    "        Z_integral = np.trapz(dZ, z_steps)\n",
    "        counts.append(Z_integral)\n",
    "        print(n, k)"
   ]
  },
  {
   "cell_type": "code",
   "execution_count": 19,
   "metadata": {},
   "outputs": [
    {
     "data": {
      "text/plain": [
       "69"
      ]
     },
     "execution_count": 19,
     "metadata": {},
     "output_type": "execute_result"
    }
   ],
   "source": [
    "len(counts)"
   ]
  },
  {
   "cell_type": "code",
   "execution_count": 20,
   "metadata": {},
   "outputs": [
    {
     "name": "stdout",
     "output_type": "stream",
     "text": [
      "[9.71515551e+03 6.63710787e+03 4.43788626e+03 2.90023461e+03\n",
      " 1.85063232e+03 1.15260489e+03 7.01000871e+02 4.16925048e+02\n",
      " 2.43076563e+02 1.39363454e+02 7.88484399e+01 4.41678004e+01\n",
      " 2.45607765e+01 1.35832685e+01 7.47964329e+00 1.18968596e+04\n",
      " 7.73542768e+03 4.88169927e+03 2.98026291e+03 1.75366385e+03\n",
      " 9.90593491e+02 5.34788185e+02 2.74598377e+02 1.33383718e+02\n",
      " 6.09218025e+01 2.59877509e+01 1.02753886e+01 3.73367687e+00\n",
      " 1.23459864e+00 5.28808066e+03 3.43173877e+03 2.16851216e+03\n",
      " 1.33092109e+03 7.91363649e+02 4.54527362e+02 2.51390254e+02\n",
      " 1.33448269e+02 6.77300284e+01 3.27369306e+01 1.50030434e+01\n",
      " 6.48727994e+00 2.63355080e+00 9.97725635e-01 3.50639895e-01\n",
      " 1.24165158e+03 7.01424667e+02 3.81165336e+02 1.98545512e+02\n",
      " 9.87306286e+01 4.66900318e+01 2.08944762e+01 8.80574858e+00\n",
      " 3.47644079e+00 1.27751431e+00 4.34516542e-01 1.35733438e-01\n",
      " 3.86735458e-02 3.89051790e+02 1.94546813e+02 9.29006543e+01\n",
      " 4.22080219e+01 1.81541260e+01 7.36025598e+00 2.79700683e+00\n",
      " 9.90342216e-01 3.24850835e-01 9.79366721e-02 2.69714100e-02\n",
      " 6.72197065e-03]\n"
     ]
    }
   ],
   "source": [
    "counts = np.array(counts)\n",
    "print(counts)"
   ]
  },
  {
   "cell_type": "code",
   "execution_count": 33,
   "metadata": {},
   "outputs": [],
   "source": [
    "N_counts = [np.array(counts[:15]), np.array(counts[15:29]),\n",
    "            np.array(counts[29:44]), np.array(counts[44:57]),\n",
    "            np.array(counts[57:])]"
   ]
  },
  {
   "cell_type": "code",
   "execution_count": 44,
   "metadata": {},
   "outputs": [
    {
     "data": {
      "text/plain": [
       "[array([9.71515551e+03, 6.63710787e+03, 4.43788626e+03, 2.90023461e+03,\n",
       "        1.85063232e+03, 1.15260489e+03, 7.01000871e+02, 4.16925048e+02,\n",
       "        2.43076563e+02, 1.39363454e+02, 7.88484399e+01, 4.41678004e+01,\n",
       "        2.45607765e+01, 1.35832685e+01, 7.47964329e+00]),\n",
       " array([1.18968596e+04, 7.73542768e+03, 4.88169927e+03, 2.98026291e+03,\n",
       "        1.75366385e+03, 9.90593491e+02, 5.34788185e+02, 2.74598377e+02,\n",
       "        1.33383718e+02, 6.09218025e+01, 2.59877509e+01, 1.02753886e+01,\n",
       "        3.73367687e+00, 1.23459864e+00]),\n",
       " array([5.28808066e+03, 3.43173877e+03, 2.16851216e+03, 1.33092109e+03,\n",
       "        7.91363649e+02, 4.54527362e+02, 2.51390254e+02, 1.33448269e+02,\n",
       "        6.77300284e+01, 3.27369306e+01, 1.50030434e+01, 6.48727994e+00,\n",
       "        2.63355080e+00, 9.97725635e-01, 3.50639895e-01]),\n",
       " array([1.24165158e+03, 7.01424667e+02, 3.81165336e+02, 1.98545512e+02,\n",
       "        9.87306286e+01, 4.66900318e+01, 2.08944762e+01, 8.80574858e+00,\n",
       "        3.47644079e+00, 1.27751431e+00, 4.34516542e-01, 1.35733438e-01,\n",
       "        3.86735458e-02]),\n",
       " array([3.89051790e+02, 1.94546813e+02, 9.29006543e+01, 4.22080219e+01,\n",
       "        1.81541260e+01, 7.36025598e+00, 2.79700683e+00, 9.90342216e-01,\n",
       "        3.24850835e-01, 9.79366721e-02, 2.69714100e-02, 6.72197065e-03])]"
      ]
     },
     "execution_count": 44,
     "metadata": {},
     "output_type": "execute_result"
    }
   ],
   "source": [
    "N_counts"
   ]
  },
  {
   "cell_type": "raw",
   "metadata": {},
   "source": [
    "plt.figure()\n",
    "plt.ylabel(r'$N(\\Delta M)$')\n",
    "plt.xlabel(r'$M$ [M$_{\\odot}$]')\n",
    "plt.xscale('log')\n",
    "plt.yscale('log')\n",
    "for j in range(len(z_min)):\n",
    "    plt.plot(10**log10masses[:-1], N_counts[:, j], c=color_map(j), marker = 'o', label = 'z = '+str(round(z_min[j], 2)) + '-' + str(round(z_max[j], 2)))\n",
    "plt.legend(loc = 'best')"
   ]
  },
  {
   "cell_type": "code",
   "execution_count": 41,
   "metadata": {},
   "outputs": [
    {
     "data": {
      "text/plain": [
       "<matplotlib.legend.Legend at 0x2b40cfd6c5d0>"
      ]
     },
     "execution_count": 41,
     "metadata": {},
     "output_type": "execute_result"
    },
    {
     "data": {
      "image/png": "[encoded data removed]",
      "text/plain": [
       "<Figure size 900x600 with 1 Axes>"
      ]
     },
     "metadata": {
      "needs_background": "light"
     },
     "output_type": "display_data"
    }
   ],
   "source": [
    "plt.figure()\n",
    "plt.ylabel(r'$N(\\Delta Y)$')\n",
    "plt.xlabel(r'$Y_{500}$')\n",
    "plt.xscale('log')\n",
    "plt.yscale('log')\n",
    "for i in range(len(z_max)):\n",
    "    plt.plot(Y_bins_limits[i][:-1], N_counts[i], c=color_map(i), marker = 'o', \n",
    "             label = 'z = {z_min} - {z_max}'.format(z_min = z_min[i], z_max = z_max[i]))\n",
    "plt.legend(loc = 'best')"
   ]
  },
  {
   "cell_type": "code",
   "execution_count": null,
   "metadata": {},
   "outputs": [],
   "source": [
    "H0 = 100 * 0.69\n",
    "c = ccl.physical_constants.CLIGHT * 1e-3  # in km/s\n",
    "counts = []\n",
    "for n in range(n_bins_z):\n",
    "    z_steps = np.linspace(z_min[n], z_max[n], num = n_steps_z)\n",
    "        \n",
    "    scale_fact_a = 1 / (1 + z_steps)\n",
    "    H_z = H0 * ccl.background.h_over_h0(cosmo_ccl, scale_fact_a)\n",
    "    factor = 4 * np.pi * (c / H_z) * (ccl.background.comoving_radial_distance(cosmo_ccl, scale_fact_a) ** 2)\n",
    "       \n",
    "    \n",
    "    for k in range(len(Y_bins_limits[n]) - 1):\n",
    "        dZ = []\n",
    "        for i in range(n_steps_z):\n",
    "            a = 1/(1+z_steps[i])\n",
    "            hmf = nM.get_mass_function(cosmo_ccl, M_500_steps, a)\n",
    "            \n",
    "            Y_500_dM = []\n",
    "            \n",
    "            for j in range(n_steps_M_500):\n",
    "                Y_500_integral = Y_500_trapz(theta_fiducial_mass_calibration, M_500_steps[j], z_steps[i], \n",
    "                                             Y_bins_limits[n][k], Y_bins_limits[n][k+1], n_steps_Y = 100)\n",
    "                Y_500_dM.append(Y_500_integral)\n",
    "            \n",
    "            Y_500_dM = np.array(Y_500_dM)\n",
    "            dn_dM = hmf*Y_500_dM\n",
    "            M_500_integral = np.trapz(dn_dM, log10_M_500_steps)\n",
    "            \n",
    "            dZ.append(M_500_integral*factor[i])\n",
    "            \n",
    "        Z_integral = np.trapz(dZ, z_steps)\n",
    "        counts.append(Z_integral)\n",
    "        print(n, k)"
   ]
  },
  {
   "cell_type": "markdown",
   "metadata": {},
   "source": [
    "## stuff from simulator.py"
   ]
  },
  {
   "cell_type": "code",
   "execution_count": 18,
   "metadata": {},
   "outputs": [],
   "source": [
    "# Define a mass definition object\n",
    "hm_def = ccl.halos.MassDef(500, 'critical')\n",
    "cosmo_ccl = N_countsSimulator.cosmo(theta_fiducial)\n",
    "nM = ccl.halos.MassFuncTinker08(cosmo_ccl, mass_def=hm_def)"
   ]
  },
  {
   "cell_type": "code",
   "execution_count": 19,
   "metadata": {},
   "outputs": [],
   "source": [
    "def halo_mass_function(cosmo_ccl, masses, z):\n",
    "    scale_fact_a = 1 / (1 + z)\n",
    "    hm_def = ccl.halos.MassDef(500, 'critical')\n",
    "    \n",
    "    mass_funct = ccl.halos.MassFuncTinker08(cosmo_ccl, mass_def=hm_def)\n",
    "        \n",
    "    dn_dM = np.array([mass_funct.get_mass_function(cosmo_ccl, masses, a) for a in scale_fact_a])\n",
    "    return dn_dM"
   ]
  },
  {
   "cell_type": "code",
   "execution_count": 20,
   "metadata": {},
   "outputs": [],
   "source": [
    "def n_counts_trapz_integral(cosmo_ccl, z_steps, mass_grid, theta):\n",
    "    H0 = 100 * 0.69\n",
    "    c = ccl.physical_constants.CLIGHT * 1e-3  # in km/s\n",
    "        \n",
    "    scale_fact_a = 1 / (1 + z_steps)\n",
    "    H_z = H0 * ccl.background.h_over_h0(cosmo_ccl, scale_fact_a)\n",
    "    factor = 4 * np.pi * (c / H_z) * (ccl.background.comoving_radial_distance(cosmo_ccl, scale_fact_a) ** 2)\n",
    "        \n",
    "    dN_dlog10Mdz = halo_mass_function(cosmo_ccl, mass_grid.flatten(), z_steps) \n",
    "    dN_dlog10Mdz = dN_dlog10Mdz.T.reshape((mass_grid.shape[0], mass_grid.shape[1], z_steps.shape[0]), order='C')\n",
    "    N_counts_dz = factor[np.newaxis, np.newaxis, :] * np.trapz(dN_dlog10Mdz, np.log10(mass_grid[:, :, np.newaxis]), axis=1)\n",
    "        \n",
    "    integral_trapz = np.trapz(N_counts_dz, z_steps, axis=-1)\n",
    "    return integral_trapz"
   ]
  },
  {
   "cell_type": "code",
   "execution_count": 21,
   "metadata": {},
   "outputs": [],
   "source": [
    "def all_n_counts_trapz(z_min, z_max, log10masses, theta, n_steps_z=100, n_steps_masses=1000):\n",
    "    N_counts_true = np.zeros((log10masses.shape[1], len(z_min)))\n",
    "        \n",
    "    log10mass_mins = log10masses[0]\n",
    "    log10mass_maxs = log10masses[1]\n",
    "        \n",
    "    nm_bins = log10mass_maxs.shape[0]\n",
    "    delta_bin = log10mass_maxs - log10mass_mins\n",
    "    mass_grid = 10 ** (log10mass_mins[:, np.newaxis] +\n",
    "                        np.linspace(0, 1, n_steps_masses) * delta_bin[:, np.newaxis])\n",
    "    print(mass_grid.shape)\n",
    "    print(mass_grid.flatten().shape)\n",
    "    \n",
    "    cosmo_ccl = N_countsSimulator.cosmo(theta)\n",
    "    t1 = time.process_time()\n",
    "    for i in range(len(z_min)):\n",
    "        z_steps = np.linspace(z_min[i], z_max[i], num=n_steps_z)\n",
    "\n",
    "        N_counts_temp = n_counts_trapz_integral(cosmo_ccl, z_steps, mass_grid, theta)\n",
    "        N_counts_true[:, i] = N_counts_temp\n",
    "            \n",
    "    t2 = time.process_time()\n",
    "    print(str(t2-t1) + ' s')\n",
    "\n",
    "    #shape_new = N_counts_true.shape[0] * N_counts_true.shape[1]\n",
    "    #N_counts_true = N_counts_true.reshape(shape_new)\n",
    "    return N_counts_true, mass_grid"
   ]
  },
  {
   "cell_type": "code",
   "execution_count": 22,
   "metadata": {},
   "outputs": [],
   "source": [
    "log10masses = np.linspace(14, 16, num = 5)\n",
    "z_min = np.linspace(0.1, 0.9, num = 5)\n",
    "z_max = np.linspace(0.2, 1.0, num = 5)\n",
    "log10masses_2d = np.stack((log10masses[:-1], log10masses[1:]))"
   ]
  },
  {
   "cell_type": "code",
   "execution_count": 23,
   "metadata": {},
   "outputs": [
    {
     "name": "stdout",
     "output_type": "stream",
     "text": [
      "(4, 1000)\n",
      "(4000,)\n",
      "0.6215326379999997 s\n"
     ]
    }
   ],
   "source": [
    "N_counts_true, mass_grid = all_n_counts_trapz(z_min, z_max, log10masses_2d, theta_fiducial)"
   ]
  },
  {
   "cell_type": "code",
   "execution_count": 24,
   "metadata": {},
   "outputs": [
    {
     "data": {
      "text/plain": [
       "array([[1.00000000e+14, 1.00115311e+14, 1.00230755e+14, ...,\n",
       "        3.15499735e+14, 3.15863541e+14, 3.16227766e+14],\n",
       "       [3.16227766e+14, 3.16592411e+14, 3.16957477e+14, ...,\n",
       "        9.97697764e+14, 9.98848219e+14, 1.00000000e+15],\n",
       "       [1.00000000e+15, 1.00115311e+15, 1.00230755e+15, ...,\n",
       "        3.15499735e+15, 3.15863541e+15, 3.16227766e+15],\n",
       "       [3.16227766e+15, 3.16592411e+15, 3.16957477e+15, ...,\n",
       "        9.97697764e+15, 9.98848219e+15, 1.00000000e+16]])"
      ]
     },
     "execution_count": 24,
     "metadata": {},
     "output_type": "execute_result"
    }
   ],
   "source": [
    "mass_grid"
   ]
  },
  {
   "cell_type": "markdown",
   "metadata": {},
   "source": [
    "## Step 1"
   ]
  },
  {
   "cell_type": "code",
   "execution_count": 25,
   "metadata": {},
   "outputs": [],
   "source": [
    "Y_bins_limits = [np.logspace(np.log10(8.6e-12), np.log10(3.9e-9), num = 16),\n",
    "                 np.logspace(np.log10(4.3e-12), np.log10(5.1e-10), num = 15),\n",
    "                 np.logspace(np.log10(3.1e-12), np.log10(1.8e-10), num = 16),\n",
    "                 np.logspace(np.log10(3.1e-12), np.log10(1.1e-10), num = 14),\n",
    "                 np.logspace(np.log10(2.5e-12), np.log10(6.6e-11), num = 13)]"
   ]
  },
  {
   "cell_type": "code",
   "execution_count": 26,
   "metadata": {},
   "outputs": [],
   "source": [
    "z_min = np.array([0., 0.25, 0.5, 0.75, 1.])\n",
    "z_max = np.array([0.25, 0.5, 0.75, 1., 1.5])\n",
    "n_steps_z = 100\n",
    "n_bins_z = len(z_min)\n",
    "\n",
    "\n",
    "n_steps_M_500 = 100\n",
    "log10_M_500_steps = np.linspace(6, 16, num = n_steps_M_500)\n",
    "M_500_steps = 10**log10_M_500_steps"
   ]
  },
  {
   "cell_type": "code",
   "execution_count": 68,
   "metadata": {},
   "outputs": [],
   "source": [
    "def compute_mass_calibration_params_array(theta_mass_calibration, M_500, z):\n",
    "    t1 = time.process_time()\n",
    "    alpha_Y = theta_mass_calibration[0]\n",
    "    beta_Y = theta_mass_calibration[1]\n",
    "    gamma_Y = theta_mass_calibration[2]\n",
    "    \n",
    "    Y_star = theta_mass_calibration[3]\n",
    "    M_star = theta_mass_calibration[4]\n",
    "    \n",
    "    alpha_sigma = theta_mass_calibration[5]\n",
    "    gamma_sigma = theta_mass_calibration[6]\n",
    "    sigma_logY0 = theta_mass_calibration[7]\n",
    "    \n",
    "    scale_fact_a = 1/(1+z)\n",
    "    #t2 = time.process_time()\n",
    "    \n",
    "    E_z = (ccl.background.h_over_h0(cosmo_ccl, scale_fact_a)**(2/3))\n",
    "    #if ccl.background.comoving_radial_distance(cosmo_ccl, scale_fact_a) == 0:\n",
    "     #   D_A_z = np.zeros(len(z))\n",
    "    #else:\n",
    "    D_A_z = (ccl.background.comoving_radial_distance(cosmo_ccl, scale_fact_a)/100)**(-2)\n",
    "   \n",
    "    mean_Y_500 = Y_star*((M_500/M_star)**alpha_Y)*np.exp(beta_Y*(np.log10(M_500/M_star)**2))*((1+z)**gamma_Y)*E_z*D_A_z\n",
    "    \n",
    "    sigma_logY_500 = sigma_logY0*((M_500/M_star)**alpha_sigma)*((1+z)**gamma_sigma)\n",
    "    \n",
    "    t2 = time.process_time()\n",
    "    #print(t2 - t1)\n",
    "    return mean_Y_500, sigma_logY_500"
   ]
  },
  {
   "cell_type": "markdown",
   "metadata": {},
   "source": [
    "#### for a single combination of mass and redshift"
   ]
  },
  {
   "cell_type": "code",
   "execution_count": 69,
   "metadata": {},
   "outputs": [
    {
     "data": {
      "text/plain": [
       "(7.804377283092591e-13, 0.127)"
      ]
     },
     "execution_count": 69,
     "metadata": {},
     "output_type": "execute_result"
    }
   ],
   "source": [
    "compute_mass_calibration_params_array(theta_fiducial_mass_calibration, 1e14, 0.5)"
   ]
  },
  {
   "cell_type": "markdown",
   "metadata": {},
   "source": [
    "#### check with a loop"
   ]
  },
  {
   "cell_type": "code",
   "execution_count": 76,
   "metadata": {},
   "outputs": [],
   "source": [
    "z_array = np.linspace(0.5, 0.75, num = 10)\n",
    "M_array = np.logspace(14, 15, num = 5)"
   ]
  },
  {
   "cell_type": "code",
   "execution_count": 79,
   "metadata": {},
   "outputs": [
    {
     "name": "stdout",
     "output_type": "stream",
     "text": [
      "time:0.0008190670000001177\n"
     ]
    }
   ],
   "source": [
    "mean_Y_500_array = np.zeros((len(M_array), len(z_array)))\n",
    "sigma_logY_500_array =  np.zeros((len(M_array), len(z_array)))\n",
    "\n",
    "time1 = time.process_time()\n",
    "for i in range(len(z_array)):\n",
    "    for j in range(len(M_array)):\n",
    "        mean_Y_500_array[j][i], sigma_logY_500_array[j][i] = compute_mass_calibration_params_array(theta_fiducial_mass_calibration, M_array[j], z_array[i])\n",
    "        \n",
    "time2 = time.process_time()\n",
    "print('time:' + str(time2 - time1))"
   ]
  },
  {
   "cell_type": "code",
   "execution_count": 63,
   "metadata": {},
   "outputs": [
    {
     "data": {
      "text/plain": [
       "array([[7.80437728e-13, 7.18703341e-13, 6.65583781e-13, 6.19520264e-13,\n",
       "        5.79294339e-13, 5.43942061e-13, 5.12692451e-13, 4.84922716e-13,\n",
       "        4.60125204e-13, 4.37882560e-13],\n",
       "       [2.19957237e-12, 2.02558123e-12, 1.87586997e-12, 1.74604534e-12,\n",
       "        1.63267328e-12, 1.53303702e-12, 1.44496365e-12, 1.36669791e-12,\n",
       "        1.29680902e-12, 1.23412073e-12],\n",
       "       [6.19923723e-12, 5.70886356e-12, 5.28691990e-12, 4.92102438e-12,\n",
       "        4.60149850e-12, 4.32068537e-12, 4.07246089e-12, 3.85187805e-12,\n",
       "        3.65490441e-12, 3.47822481e-12],\n",
       "       [1.74718244e-11, 1.60897636e-11, 1.49005648e-11, 1.38693311e-11,\n",
       "        1.29687848e-11, 1.21773459e-11, 1.14777543e-11, 1.08560673e-11,\n",
       "        1.03009202e-11, 9.80296944e-12],\n",
       "       [4.92422917e-11, 4.53471152e-11, 4.19954975e-11, 3.90890861e-11,\n",
       "        3.65510018e-11, 3.43204238e-11, 3.23487067e-11, 3.05965549e-11,\n",
       "        2.90319377e-11, 2.76285217e-11]])"
      ]
     },
     "execution_count": 63,
     "metadata": {},
     "output_type": "execute_result"
    }
   ],
   "source": [
    "mean_Y_500_array"
   ]
  },
  {
   "cell_type": "code",
   "execution_count": null,
   "metadata": {},
   "outputs": [],
   "source": []
  },
  {
   "cell_type": "markdown",
   "metadata": {},
   "source": [
    "#### try it for an array"
   ]
  },
  {
   "cell_type": "code",
   "execution_count": 82,
   "metadata": {},
   "outputs": [],
   "source": [
    "z_array = np.linspace(0.5, 0.75, num = 10).reshape(1, 10)\n",
    "M_array = np.logspace(14, 15, num = 5).reshape(5, 1)\n"
   ]
  },
  {
   "cell_type": "code",
   "execution_count": 83,
   "metadata": {},
   "outputs": [],
   "source": [
    "z_array_0 = np.repeat(z_array, 5, axis=0)\n",
    "M_array_0 = np.repeat(M_array, 10, axis=1)"
   ]
  },
  {
   "cell_type": "code",
   "execution_count": 84,
   "metadata": {},
   "outputs": [],
   "source": [
    "z_array_flat = z_array_0.flatten()\n",
    "M_array_flat = M_array_0.flatten()"
   ]
  },
  {
   "cell_type": "code",
   "execution_count": 85,
   "metadata": {},
   "outputs": [
    {
     "name": "stdout",
     "output_type": "stream",
     "text": [
      "time:0.00019594499999975312\n"
     ]
    }
   ],
   "source": [
    "t1 = time.process_time()\n",
    "mean_Y_500_flat, sigma_logY_500_flat = compute_mass_calibration_params_array(theta_fiducial_mass_calibration, M_array_flat, z_array_flat)\n",
    "        \n",
    "t2 = time.process_time()\n",
    "print('time:' + str(t2 - t1))"
   ]
  },
  {
   "cell_type": "code",
   "execution_count": 86,
   "metadata": {},
   "outputs": [],
   "source": [
    "mean_Y_500 = mean_Y_500_flat.reshape(5, 10)\n",
    "sigma_logY_500 = sigma_logY_500_flat.reshape(5, 10)"
   ]
  },
  {
   "cell_type": "code",
   "execution_count": 89,
   "metadata": {},
   "outputs": [
    {
     "data": {
      "text/plain": [
       "array([[7.80437728e-13, 7.18703341e-13, 6.65583781e-13, 6.19520264e-13,\n",
       "        5.79294339e-13, 5.43942061e-13, 5.12692451e-13, 4.84922716e-13,\n",
       "        4.60125204e-13, 4.37882560e-13],\n",
       "       [2.19957237e-12, 2.02558123e-12, 1.87586997e-12, 1.74604534e-12,\n",
       "        1.63267328e-12, 1.53303702e-12, 1.44496365e-12, 1.36669791e-12,\n",
       "        1.29680902e-12, 1.23412073e-12],\n",
       "       [6.19923723e-12, 5.70886356e-12, 5.28691990e-12, 4.92102438e-12,\n",
       "        4.60149850e-12, 4.32068537e-12, 4.07246089e-12, 3.85187805e-12,\n",
       "        3.65490441e-12, 3.47822481e-12],\n",
       "       [1.74718244e-11, 1.60897636e-11, 1.49005648e-11, 1.38693311e-11,\n",
       "        1.29687848e-11, 1.21773459e-11, 1.14777543e-11, 1.08560673e-11,\n",
       "        1.03009202e-11, 9.80296944e-12],\n",
       "       [4.92422917e-11, 4.53471152e-11, 4.19954975e-11, 3.90890861e-11,\n",
       "        3.65510018e-11, 3.43204238e-11, 3.23487067e-11, 3.05965549e-11,\n",
       "        2.90319377e-11, 2.76285217e-11]])"
      ]
     },
     "execution_count": 89,
     "metadata": {},
     "output_type": "execute_result"
    }
   ],
   "source": [
    "mean_Y_500"
   ]
  },
  {
   "cell_type": "markdown",
   "metadata": {},
   "source": [
    "## Step 2"
   ]
  },
  {
   "cell_type": "code",
   "execution_count": 115,
   "metadata": {},
   "outputs": [
    {
     "data": {
      "text/plain": [
       "array([[1.00000000e-12, 1.30766049e-12, 1.70997595e-12, 2.23606798e-12,\n",
       "        2.92401774e-12, 3.82362246e-12, 5.00000000e-12]])"
      ]
     },
     "execution_count": 115,
     "metadata": {},
     "output_type": "execute_result"
    }
   ],
   "source": [
    "Y_500_array = np.logspace(np.log10(1.0e-12), np.log10(5.0e-12), num = 7).reshape(1, 7)\n",
    "Y_500_array"
   ]
  },
  {
   "cell_type": "code",
   "execution_count": 116,
   "metadata": {},
   "outputs": [
    {
     "data": {
      "text/plain": [
       "(50, 7)"
      ]
     },
     "execution_count": 116,
     "metadata": {},
     "output_type": "execute_result"
    }
   ],
   "source": [
    "Y_500_array_0 = np.repeat(Y_500_array, 50, axis = 0)\n",
    "Y_500_array_0.shape"
   ]
  },
  {
   "cell_type": "code",
   "execution_count": 117,
   "metadata": {},
   "outputs": [
    {
     "data": {
      "text/plain": [
       "(50, 7)"
      ]
     },
     "execution_count": 117,
     "metadata": {},
     "output_type": "execute_result"
    }
   ],
   "source": [
    "mean_Y_500_flat_0 = np.repeat(mean_Y_500_flat.reshape(50, 1), 7, axis = 1)\n",
    "mean_Y_500_flat_0.shape\n",
    "sigma_logY_500_flat_0 = np.repeat(sigma_logY_500_flat.reshape(50, 1), 7, axis = 1)\n",
    "sigma_logY_500_flat_0.shape"
   ]
  },
  {
   "cell_type": "code",
   "execution_count": 118,
   "metadata": {},
   "outputs": [
    {
     "data": {
      "text/plain": [
       "(350,)"
      ]
     },
     "execution_count": 118,
     "metadata": {},
     "output_type": "execute_result"
    }
   ],
   "source": [
    "Y_500_array_flat = Y_500_array_0.flatten()\n",
    "mean_Y_500_flat_flat = mean_Y_500_flat_0.flatten()\n",
    "sigma_logY_500_flat_flat = sigma_logY_500_flat_0.flatten()\n",
    "Y_500_array_flat.shape"
   ]
  },
  {
   "cell_type": "code",
   "execution_count": 121,
   "metadata": {},
   "outputs": [],
   "source": [
    "def compute_probability_Y_500_array(mean_Y_500, sigma_logY_500, Y_500_true): #, M_500, z):\n",
    "    t1 = time.process_time()\n",
    "    \n",
    "    #mean_Y_500, sigma_logY_500 = compute_mass_calibration_params(theta_mass_calibration, M_500, z)\n",
    "    \n",
    "    prob_Y_500_true = np.exp(-((np.log10(Y_500_true) - np.log10(mean_Y_500))**2)/(2*(sigma_logY_500**2)))/(np.sqrt(2*np.pi)*sigma_logY_500)/Y_500_true\n",
    "    \n",
    "    t2 = time.process_time()\n",
    "    print(t2 - t1)\n",
    "    return prob_Y_500_true"
   ]
  },
  {
   "cell_type": "code",
   "execution_count": 122,
   "metadata": {},
   "outputs": [
    {
     "name": "stdout",
     "output_type": "stream",
     "text": [
      "8.397400000070832e-05\n"
     ]
    },
    {
     "data": {
      "text/plain": [
       "(350,)"
      ]
     },
     "execution_count": 122,
     "metadata": {},
     "output_type": "execute_result"
    }
   ],
   "source": [
    "prob_Y_500_array = compute_probability_Y_500_array(mean_Y_500_flat_flat, sigma_logY_500_flat_flat, Y_500_array_flat)\n",
    "prob_Y_500_array.shape"
   ]
  },
  {
   "cell_type": "code",
   "execution_count": 125,
   "metadata": {},
   "outputs": [
    {
     "data": {
      "text/plain": [
       "(50, 7)"
      ]
     },
     "execution_count": 125,
     "metadata": {},
     "output_type": "execute_result"
    }
   ],
   "source": [
    "prob_Y_500_array_1 = prob_Y_500_array.reshape(50, 7)\n",
    "prob_Y_500_array_1.shape"
   ]
  },
  {
   "cell_type": "code",
   "execution_count": 128,
   "metadata": {},
   "outputs": [],
   "source": [
    "prob_Y_500_array_2 = prob_Y_500_array_1.reshape(5, 10, 7)"
   ]
  },
  {
   "cell_type": "code",
   "execution_count": 131,
   "metadata": {},
   "outputs": [
    {
     "data": {
      "text/plain": [
       "(5, 10, 7)"
      ]
     },
     "execution_count": 131,
     "metadata": {},
     "output_type": "execute_result"
    }
   ],
   "source": [
    "prob_Y_500_array_2.shape"
   ]
  },
  {
   "cell_type": "code",
   "execution_count": 138,
   "metadata": {},
   "outputs": [
    {
     "name": "stdout",
     "output_type": "stream",
     "text": [
      "(5, 10)\n"
     ]
    },
    {
     "data": {
      "text/plain": [
       "array([[5.41684723e-01, 3.71317762e-01, 2.47462564e-01, 1.61218911e-01,\n",
       "        1.03189839e-01, 6.51798221e-02, 4.07896742e-02, 2.53762391e-02,\n",
       "        1.57403242e-02, 9.75862262e-03],\n",
       "       [2.30903404e+00, 2.30243958e+00, 2.28390665e+00, 2.25277598e+00,\n",
       "        2.20794732e+00, 2.14879466e+00, 2.07556666e+00, 1.98943726e+00,\n",
       "        1.89234579e+00, 1.78673814e+00],\n",
       "       [5.33131638e-01, 7.34197306e-01, 9.45793505e-01, 1.15526694e+00,\n",
       "        1.35249076e+00, 1.53063457e+00, 1.68609214e+00, 1.81791617e+00,\n",
       "        1.92706507e+00, 2.01567046e+00],\n",
       "       [4.03223036e-05, 1.30519105e-04, 3.63852023e-04, 8.92924801e-04,\n",
       "        1.96449485e-03, 3.93410746e-03, 7.26383450e-03, 1.25002183e-02,\n",
       "        2.02349147e-02, 3.10549554e-02],\n",
       "       [1.91856821e-14, 1.67165204e-13, 1.16996368e-12, 6.76792256e-12,\n",
       "        3.31427276e-11, 1.40200302e-10, 5.21196665e-10, 1.72795392e-09,\n",
       "        5.17408700e-09, 1.41467736e-08]])"
      ]
     },
     "execution_count": 138,
     "metadata": {},
     "output_type": "execute_result"
    }
   ],
   "source": [
    "integral_trapz1 = np.trapz(prob_Y_500_array_2, Y_500_array)\n",
    "print(integral_trapz1.shape)\n",
    "integral_trapz1"
   ]
  },
  {
   "cell_type": "code",
   "execution_count": null,
   "metadata": {},
   "outputs": [],
   "source": []
  },
  {
   "cell_type": "code",
   "execution_count": 141,
   "metadata": {},
   "outputs": [
    {
     "data": {
      "text/plain": [
       "(10,)"
      ]
     },
     "execution_count": 141,
     "metadata": {},
     "output_type": "execute_result"
    }
   ],
   "source": [
    "integral_trapz2 = np.trapz(integral_trapz1.T, M_array.reshape(5))\n",
    "integral_trapz2.shape"
   ]
  },
  {
   "cell_type": "code",
   "execution_count": 142,
   "metadata": {},
   "outputs": [
    {
     "data": {
      "text/plain": [
       "126021619743413.94"
      ]
     },
     "execution_count": 142,
     "metadata": {},
     "output_type": "execute_result"
    }
   ],
   "source": [
    "integral_trapz3 = np.trapz(integral_trapz2, z_array.reshape(10))\n",
    "integral_trapz3"
   ]
  }
 ],
 "metadata": {
  "celltoolbar": "Slideshow",
  "kernelspec": {
   "display_name": "fast-mpi4py [~/.conda/envs/fast-mpi4py/]",
   "language": "python",
   "name": "conda_fast-mpi4py"
  },
  "language_info": {
   "codemirror_mode": {
    "name": "ipython",
    "version": 3
   },
   "file_extension": ".py",
   "mimetype": "text/x-python",
   "name": "python",
   "nbconvert_exporter": "python",
   "pygments_lexer": "ipython3",
   "version": "3.7.7"
  }
 },
 "nbformat": 4,
 "nbformat_minor": 2
}
