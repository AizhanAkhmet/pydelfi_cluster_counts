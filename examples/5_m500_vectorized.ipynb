{
 "cells": [
  {
   "cell_type": "markdown",
   "metadata": {
    "slideshow": {
     "slide_type": "slide"
    }
   },
   "source": [
    "## Import your stuff"
   ]
  },
  {
   "cell_type": "code",
   "execution_count": 2,
   "metadata": {
    "slideshow": {
     "slide_type": "-"
    }
   },
   "outputs": [
    {
     "name": "stdout",
     "output_type": "stream",
     "text": [
      "WARNING:tensorflow:From /home/aizhana/.conda/envs/fast-mpi4py/lib/python3.7/site-packages/pydelfi/train.py:9: The name tf.train.AdamOptimizer is deprecated. Please use tf.compat.v1.train.AdamOptimizer instead.\n",
      "\n"
     ]
    }
   ],
   "source": [
    "import numpy as np\n",
    "import simulators.jla_supernovae.jla_simulator as jla\n",
    "import pydelfi.ndes as ndes\n",
    "import pydelfi.delfi as delfi\n",
    "import pydelfi.score as score\n",
    "import pydelfi.priors as priors\n",
    "import tensorflow as tf\n",
    "tf.logging.set_verbosity(tf.logging.ERROR)\n",
    "%matplotlib inline"
   ]
  },
  {
   "cell_type": "code",
   "execution_count": 2,
   "metadata": {},
   "outputs": [
    {
     "name": "stdout",
     "output_type": "stream",
     "text": [
      "CCL version you are using: 2.1.0\n"
     ]
    }
   ],
   "source": [
    "import pylab as plt\n",
    "import pyccl as ccl\n",
    "import scipy\n",
    "from scipy.interpolate import interp1d\n",
    "\n",
    "import matplotlib\n",
    "%matplotlib inline\n",
    "\n",
    "import time\n",
    "import importlib\n",
    "\n",
    "print(\"CCL version you are using:\",ccl.__version__)"
   ]
  },
  {
   "cell_type": "code",
   "execution_count": 3,
   "metadata": {},
   "outputs": [],
   "source": [
    "font_config = {\"size\" : 10,\n",
    "               \"family\" : \"serif\"}\n",
    "\n",
    "matplotlib.rc(\"font\", **font_config)\n",
    "matplotlib.rc(\"text\", usetex=True)\n",
    "# Move title to make space for exponents of y axis\n",
    "matplotlib.rc(\"axes\", titlepad=5) \n",
    "matplotlib.rc(\"axes\", titlesize=\"medium\") \n",
    "\n",
    "# Make the figures bigger in the notebook\n",
    "matplotlib.rc(\"figure\", dpi=150)\n",
    "\n",
    "color_map = plt.get_cmap(\"tab10\")\n",
    "\n",
    "paper_textwidth = 7.125\n",
    "fig_size = (paper_textwidth/2, 2.6)\n",
    "\n",
    "plot_adjust = dict(left=0.2, top=0.9, bottom=0.2)"
   ]
  },
  {
   "cell_type": "code",
   "execution_count": 4,
   "metadata": {},
   "outputs": [
    {
     "data": {
      "text/plain": [
       "<module 'simulators.mass_function_n_counts.simulator_trapz_m500' from '/home/aizhana/pydelfi_cluster_counts/examples/simulators/mass_function_n_counts/simulator_trapz_m500.py'>"
      ]
     },
     "execution_count": 4,
     "metadata": {},
     "output_type": "execute_result"
    }
   ],
   "source": [
    "import simulators.mass_function_n_counts.simulator_trapz_m500 as n_counts_simulator\n",
    "importlib.reload(n_counts_simulator)"
   ]
  },
  {
   "cell_type": "markdown",
   "metadata": {},
   "source": [
    "## Set up priors on params of interest (for now): {$\\Omega_{m}h^{2} = \\Omega_{cdm}h^{2} + \\Omega_{b}h^{2}$, $\\sigma_{8}$, $h$, $n_{s}$, $w_{0}$}"
   ]
  },
  {
   "cell_type": "code",
   "execution_count": 5,
   "metadata": {},
   "outputs": [],
   "source": [
    "lower = np.array([0.1125, 0.020, 0.6])\n",
    "upper = np.array([0.1275, 0.024, 1.1])\n",
    "prior = priors.Uniform(lower, upper)"
   ]
  },
  {
   "cell_type": "code",
   "execution_count": 3,
   "metadata": {},
   "outputs": [],
   "source": [
    "theta_fiducial = np.array([0.1197, 0.02222, 0.76])\n"
   ]
  },
  {
   "cell_type": "markdown",
   "metadata": {},
   "source": [
    "## Define mass calibration parameters"
   ]
  },
  {
   "cell_type": "code",
   "execution_count": 4,
   "metadata": {},
   "outputs": [],
   "source": [
    "mass_calibration_param_names = ['\\\\alpha_{Y}', '\\\\beta_{Y}', '\\\\gamma_{Y}', 'Y_{*}', 'M_{*}', \n",
    "                                '\\\\alpha_{\\sigma}', '\\\\gamma_{\\sigma}', '\\\\sigma_{log Y_{0}}']\n",
    "theta_fiducial_mass_calibration = np.array([1.8, 0., 0., 2.4e-10, 1e14, 0., 0., 0.127])"
   ]
  },
  {
   "cell_type": "code",
   "execution_count": 60,
   "metadata": {},
   "outputs": [],
   "source": [
    "log10masses = np.linspace(14, 16, num = 5)\n",
    "z_min = np.linspace(0.1, 0.9, num = 5)\n",
    "z_max = np.linspace(0.2, 1.0, num = 5)\n",
    "log10masses_2d = np.stack((log10masses[:-1], log10masses[1:]))"
   ]
  },
  {
   "cell_type": "code",
   "execution_count": 61,
   "metadata": {},
   "outputs": [
    {
     "name": "stdout",
     "output_type": "stream",
     "text": [
      "0.603261818 s\n"
     ]
    }
   ],
   "source": [
    "N_countsSimulator = n_counts_simulator.Model(log10masses, z_min, z_max)"
   ]
  },
  {
   "cell_type": "code",
   "execution_count": 62,
   "metadata": {},
   "outputs": [
    {
     "data": {
      "text/plain": [
       "array([6.93570283e+03, 2.12245611e+04, 2.68131452e+04, 2.27865738e+04,\n",
       "       1.49412370e+04, 5.42447860e+02, 1.28066151e+03, 1.17583495e+03,\n",
       "       6.77034429e+02, 2.84660843e+02, 9.09725925e+00, 1.37157108e+01,\n",
       "       7.16038628e+00, 2.04769383e+00, 3.83229867e-01, 5.72580092e-03,\n",
       "       3.66691546e-03, 6.34184903e-04, 4.53809242e-05, 1.68220280e-06])"
      ]
     },
     "execution_count": 62,
     "metadata": {},
     "output_type": "execute_result"
    }
   ],
   "source": [
    "N_countsSimulator.N_counts"
   ]
  },
  {
   "cell_type": "code",
   "execution_count": 6,
   "metadata": {},
   "outputs": [
    {
     "data": {
      "text/plain": [
       "array([1.197e-01, 2.222e-02, 7.600e-01, 1.800e+00, 0.000e+00, 0.000e+00,\n",
       "       2.400e-10, 1.000e+14, 0.000e+00, 0.000e+00, 1.270e-01])"
      ]
     },
     "execution_count": 6,
     "metadata": {},
     "output_type": "execute_result"
    }
   ],
   "source": [
    "np.concatenate((theta_fiducial, theta_fiducial_mass_calibration))"
   ]
  },
  {
   "cell_type": "markdown",
   "metadata": {},
   "source": [
    "## Get Cosmology and HMF "
   ]
  },
  {
   "cell_type": "code",
   "execution_count": 9,
   "metadata": {},
   "outputs": [],
   "source": [
    "# Define a mass definition object\n",
    "hm_def = ccl.halos.MassDef(500, 'critical')\n",
    "cosmo_ccl = N_countsSimulator.cosmo(theta_fiducial)\n",
    "nM = ccl.halos.MassFuncTinker08(cosmo_ccl, mass_def=hm_def)"
   ]
  },
  {
   "cell_type": "code",
   "execution_count": 10,
   "metadata": {},
   "outputs": [],
   "source": [
    "def compute_mass_calibration_params(theta_mass_calibration, M_500, z):\n",
    "    t1 = time.process_time()\n",
    "    alpha_Y = theta_mass_calibration[0]\n",
    "    beta_Y = theta_mass_calibration[1]\n",
    "    gamma_Y = theta_mass_calibration[2]\n",
    "    \n",
    "    Y_star = theta_mass_calibration[3]\n",
    "    M_star = theta_mass_calibration[4]\n",
    "    \n",
    "    alpha_sigma = theta_mass_calibration[5]\n",
    "    gamma_sigma = theta_mass_calibration[6]\n",
    "    sigma_logY0 = theta_mass_calibration[7]\n",
    "    \n",
    "    scale_fact_a = 1/(1+z)\n",
    "    #t2 = time.process_time()\n",
    "    \n",
    "    E_z = (ccl.background.h_over_h0(cosmo_ccl, scale_fact_a)**(2/3))\n",
    "    if ccl.background.comoving_radial_distance(cosmo_ccl, scale_fact_a) == 0:\n",
    "        D_A_z = 0.\n",
    "    else:\n",
    "        D_A_z = (ccl.background.comoving_radial_distance(cosmo_ccl, scale_fact_a)/100)**(-2)\n",
    "   \n",
    "    mean_Y_500 = Y_star*((M_500/M_star)**alpha_Y)*np.exp(beta_Y*(np.log10(M_500/M_star)**2))*((1+z)**gamma_Y)*E_z*D_A_z\n",
    "    \n",
    "    sigma_logY_500 = sigma_logY0*((M_500/M_star)**alpha_sigma)*((1+z)**gamma_sigma)\n",
    "    \n",
    "    t2 = time.process_time()\n",
    "    #print(t2 - t1)\n",
    "    return mean_Y_500, sigma_logY_500"
   ]
  },
  {
   "cell_type": "code",
   "execution_count": 11,
   "metadata": {},
   "outputs": [],
   "source": [
    "def compute_probability_Y_500(theta_mass_calibration, Y_500_true, M_500, z):\n",
    "    t1 = time.process_time()\n",
    "    \n",
    "    mean_Y_500, sigma_logY_500 = compute_mass_calibration_params(theta_mass_calibration, M_500, z)\n",
    "    \n",
    "    prob_Y_500_true = np.exp(-((np.log10(Y_500_true) - np.log10(mean_Y_500))**2)/(2*(sigma_logY_500**2)))/(np.sqrt(2*np.pi)*sigma_logY_500)\n",
    "    \n",
    "    t2 = time.process_time()\n",
    "    #print(t2 - t1)\n",
    "    return prob_Y_500_true"
   ]
  },
  {
   "cell_type": "code",
   "execution_count": 12,
   "metadata": {},
   "outputs": [
    {
     "data": {
      "text/plain": [
       "3.136997944522371"
      ]
     },
     "execution_count": 12,
     "metadata": {},
     "output_type": "execute_result"
    }
   ],
   "source": [
    "mean_Y_500, sigma_logY_500 = compute_mass_calibration_params(theta_fiducial_mass_calibration, 1e15, 0.5)\n",
    "compute_probability_Y_500(theta_fiducial_mass_calibration, 5e-11, 1e15, 0.5)"
   ]
  },
  {
   "cell_type": "code",
   "execution_count": 13,
   "metadata": {},
   "outputs": [],
   "source": [
    "def Y_500_trapz(theta_mass_calibration, M_500, z, Y_min, Y_max, n_steps_Y = 1000):\n",
    "    t1 = time.process_time()\n",
    "    \n",
    "    Y_steps = np.linspace(Y_min, Y_max, num=n_steps_Y)\n",
    "    p_Y_true = np.array([compute_probability_Y_500(theta_mass_calibration, Y_500_true, M_500, z)/Y_500_true for Y_500_true in Y_steps])\n",
    "    #p_Y_true = np.array([compute_probability_Y_500(theta_mass_calibration, Y_500_true, M_500, z) for Y_500_true in Y_steps])\n",
    "    \n",
    "    \n",
    "    integral_trapz = np.trapz(p_Y_true, Y_steps)\n",
    "    \n",
    "    t2 = time.process_time()\n",
    "    #print(t2 - t1)\n",
    "    return integral_trapz"
   ]
  },
  {
   "cell_type": "code",
   "execution_count": 14,
   "metadata": {},
   "outputs": [],
   "source": [
    "p_Y_true = Y_500_trapz(theta_fiducial_mass_calibration, 1e15, 0.5, 3e-11, 5e-11, n_steps_Y = 1000)"
   ]
  },
  {
   "cell_type": "markdown",
   "metadata": {},
   "source": [
    "## Compute number counts with a loop"
   ]
  },
  {
   "cell_type": "code",
   "execution_count": 15,
   "metadata": {},
   "outputs": [],
   "source": [
    "#z_min = np.array([0., 0.25, 0.5, 0.75, 1.])\n",
    "#z_max = np.array([0.25, 0.5, 0.75, 1., 1.5])\n",
    "z_min = np.array([0.])\n",
    "z_max = np.array([0.25])\n",
    "n_steps_z = 100\n",
    "n_bins_z = len(z_min)"
   ]
  },
  {
   "cell_type": "raw",
   "metadata": {},
   "source": [
    "Y_bins_limits = [np.logspace(np.log10(8.6e-12), np.log10(3.9e-9), num = 16),\n",
    "                 np.logspace(np.log10(4.3e-12), np.log10(5.1e-10), num = 15),\n",
    "                 np.logspace(np.log10(3.1e-12), np.log10(1.8e-10), num = 16),\n",
    "                 np.logspace(np.log10(3.1e-12), np.log10(1.1e-10), num = 14),\n",
    "                 np.logspace(np.log10(2.5e-12), np.log10(6.6e-11), num = 13)]"
   ]
  },
  {
   "cell_type": "code",
   "execution_count": 16,
   "metadata": {},
   "outputs": [],
   "source": [
    "Y_bins_limits = [np.logspace(np.log10(8.6e-12), np.log10(3.9e-9), num = 16)]"
   ]
  },
  {
   "cell_type": "code",
   "execution_count": 17,
   "metadata": {},
   "outputs": [],
   "source": [
    "n_steps_M_500 = 100\n",
    "log10_M_500_steps = np.linspace(6, 16, num = n_steps_M_500)\n",
    "M_500_steps = 10**log10_M_500_steps"
   ]
  },
  {
   "cell_type": "code",
   "execution_count": 18,
   "metadata": {},
   "outputs": [
    {
     "name": "stderr",
     "output_type": "stream",
     "text": [
      "/home/aizhana/.conda/envs/fast-mpi4py/lib/python3.7/site-packages/ipykernel_launcher.py:6: RuntimeWarning: divide by zero encountered in log10\n",
      "  \n"
     ]
    },
    {
     "name": "stdout",
     "output_type": "stream",
     "text": [
      "0 0\n",
      "0 1\n",
      "0 2\n",
      "0 3\n",
      "0 4\n",
      "0 5\n",
      "0 6\n",
      "0 7\n",
      "0 8\n",
      "0 9\n",
      "0 10\n",
      "0 11\n",
      "0 12\n",
      "0 13\n",
      "0 14\n"
     ]
    }
   ],
   "source": [
    "H0 = 100 * 0.69\n",
    "c = ccl.physical_constants.CLIGHT * 1e-3  # in km/s\n",
    "counts = []\n",
    "for n in range(n_bins_z):\n",
    "    z_steps = np.linspace(z_min[n], z_max[n], num = n_steps_z)\n",
    "        \n",
    "    scale_fact_a = 1 / (1 + z_steps)\n",
    "    H_z = H0 * ccl.background.h_over_h0(cosmo_ccl, scale_fact_a)\n",
    "    factor = 4 * np.pi * (c / H_z) * (ccl.background.comoving_radial_distance(cosmo_ccl, scale_fact_a) ** 2)\n",
    "       \n",
    "    \n",
    "    for k in range(len(Y_bins_limits[n]) - 1):\n",
    "        dZ = []\n",
    "        for i in range(n_steps_z):\n",
    "            a = 1/(1+z_steps[i])\n",
    "            hmf = nM.get_mass_function(cosmo_ccl, M_500_steps, a)\n",
    "            \n",
    "            Y_500_dM = []\n",
    "            \n",
    "            for j in range(n_steps_M_500):\n",
    "                Y_500_integral = Y_500_trapz(theta_fiducial_mass_calibration, M_500_steps[j], z_steps[i], \n",
    "                                             Y_bins_limits[n][k], Y_bins_limits[n][k+1], n_steps_Y = 100)\n",
    "                Y_500_dM.append(Y_500_integral)\n",
    "            \n",
    "            Y_500_dM = np.array(Y_500_dM)\n",
    "            dn_dM = hmf*Y_500_dM\n",
    "            M_500_integral = np.trapz(dn_dM, log10_M_500_steps)\n",
    "            \n",
    "            dZ.append(M_500_integral*factor[i])\n",
    "            \n",
    "        Z_integral = np.trapz(dZ, z_steps)\n",
    "        counts.append(Z_integral)\n",
    "        print(n, k)"
   ]
  },
  {
   "cell_type": "code",
   "execution_count": 19,
   "metadata": {},
   "outputs": [
    {
     "data": {
      "text/plain": [
       "15"
      ]
     },
     "execution_count": 19,
     "metadata": {},
     "output_type": "execute_result"
    }
   ],
   "source": [
    "len(counts)"
   ]
  },
  {
   "cell_type": "code",
   "execution_count": 32,
   "metadata": {},
   "outputs": [
    {
     "data": {
      "text/plain": [
       "array([9.71515551e+03, 6.63710787e+03, 4.43788626e+03, 2.90023461e+03,\n",
       "       1.85063232e+03, 1.15260489e+03, 7.01000871e+02, 4.16925048e+02,\n",
       "       2.43076563e+02, 1.39363454e+02, 7.88484399e+01, 4.41678004e+01,\n",
       "       2.45607765e+01, 1.35832685e+01, 7.47964329e+00])"
      ]
     },
     "execution_count": 32,
     "metadata": {},
     "output_type": "execute_result"
    }
   ],
   "source": [
    "counts "
   ]
  },
  {
   "cell_type": "code",
   "execution_count": 19,
   "metadata": {},
   "outputs": [],
   "source": [
    "counts = np.array([9.71515551e+03, 6.63710787e+03, 4.43788626e+03, 2.90023461e+03,\n",
    "       1.85063232e+03, 1.15260489e+03, 7.01000871e+02, 4.16925048e+02,\n",
    "       2.43076563e+02, 1.39363454e+02, 7.88484399e+01, 4.41678004e+01,\n",
    "       2.45607765e+01, 1.35832685e+01, 7.47964329e+00])"
   ]
  },
  {
   "cell_type": "code",
   "execution_count": 20,
   "metadata": {},
   "outputs": [
    {
     "data": {
      "text/plain": [
       "<matplotlib.legend.Legend at 0x2abc08bdb190>"
      ]
     },
     "execution_count": 20,
     "metadata": {},
     "output_type": "execute_result"
    },
    {
     "data": {
      "image/png": "[encoded data removed]",
      "text/plain": [
       "<Figure size 900x600 with 1 Axes>"
      ]
     },
     "metadata": {
      "needs_background": "light"
     },
     "output_type": "display_data"
    }
   ],
   "source": [
    "plt.figure()\n",
    "plt.ylabel(r'$N(\\Delta Y)$')\n",
    "plt.xlabel(r'$Y_{500}$')\n",
    "plt.xscale('log')\n",
    "plt.yscale('log')\n",
    "for i in range(len(z_max)):\n",
    "    plt.plot(Y_bins_limits[i][:-1], counts, c=color_map(i), marker = 'o', \n",
    "             label = 'z = {z_min} - {z_max}'.format(z_min = z_min[i], z_max = z_max[i]))\n",
    "plt.legend(loc = 'best')"
   ]
  },
  {
   "cell_type": "markdown",
   "metadata": {},
   "source": [
    "## stuff from simulator.py"
   ]
  },
  {
   "cell_type": "code",
   "execution_count": 53,
   "metadata": {},
   "outputs": [],
   "source": [
    "# Define a mass definition object\n",
    "hm_def = ccl.halos.MassDef(500, 'critical')\n",
    "cosmo_ccl = N_countsSimulator.cosmo(theta_fiducial)\n",
    "nM = ccl.halos.MassFuncTinker08(cosmo_ccl, mass_def=hm_def)"
   ]
  },
  {
   "cell_type": "code",
   "execution_count": 54,
   "metadata": {},
   "outputs": [],
   "source": [
    "def halo_mass_function(cosmo_ccl, masses, z):\n",
    "    scale_fact_a = 1 / (1 + z)\n",
    "    hm_def = ccl.halos.MassDef(500, 'critical')\n",
    "    \n",
    "    mass_funct = ccl.halos.MassFuncTinker08(cosmo_ccl, mass_def=hm_def)\n",
    "        \n",
    "    dn_dM = np.array([mass_funct.get_mass_function(cosmo_ccl, masses, a) for a in scale_fact_a])\n",
    "    return dn_dM"
   ]
  },
  {
   "cell_type": "code",
   "execution_count": 55,
   "metadata": {},
   "outputs": [],
   "source": [
    "def n_counts_trapz_integral(cosmo_ccl, z_steps, mass_grid, theta):\n",
    "    H0 = 100 * 0.69\n",
    "    c = ccl.physical_constants.CLIGHT * 1e-3  # in km/s\n",
    "        \n",
    "    scale_fact_a = 1 / (1 + z_steps)\n",
    "    H_z = H0 * ccl.background.h_over_h0(cosmo_ccl, scale_fact_a)\n",
    "    factor = 4 * np.pi * (c / H_z) * (ccl.background.comoving_radial_distance(cosmo_ccl, scale_fact_a) ** 2)\n",
    "        \n",
    "    dN_dlog10Mdz = halo_mass_function(cosmo_ccl, mass_grid.flatten(), z_steps) \n",
    "    dN_dlog10Mdz = dN_dlog10Mdz.T.reshape((mass_grid.shape[0], mass_grid.shape[1], z_steps.shape[0]), order='C')\n",
    "    N_counts_dz = factor[np.newaxis, np.newaxis, :] * np.trapz(dN_dlog10Mdz, np.log10(mass_grid[:, :, np.newaxis]), axis=1)\n",
    "        \n",
    "    integral_trapz = np.trapz(N_counts_dz, z_steps, axis=-1)\n",
    "    return integral_trapz"
   ]
  },
  {
   "cell_type": "code",
   "execution_count": 56,
   "metadata": {},
   "outputs": [],
   "source": [
    "def all_n_counts_trapz(z_min, z_max, log10masses, theta, n_steps_z=100, n_steps_masses=1000):\n",
    "    N_counts_true = np.zeros((log10masses.shape[1], len(z_min)))\n",
    "        \n",
    "    log10mass_mins = log10masses[0]\n",
    "    log10mass_maxs = log10masses[1]\n",
    "        \n",
    "    nm_bins = log10mass_maxs.shape[0]\n",
    "    delta_bin = log10mass_maxs - log10mass_mins\n",
    "    mass_grid = 10 ** (log10mass_mins[:, np.newaxis] +\n",
    "                        np.linspace(0, 1, n_steps_masses) * delta_bin[:, np.newaxis])\n",
    "    print(mass_grid.shape)\n",
    "    print(mass_grid.flatten().shape)\n",
    "    \n",
    "    cosmo_ccl = N_countsSimulator.cosmo(theta)\n",
    "    t1 = time.process_time()\n",
    "    for i in range(len(z_min)):\n",
    "        z_steps = np.linspace(z_min[i], z_max[i], num=n_steps_z)\n",
    "\n",
    "        N_counts_temp = n_counts_trapz_integral(cosmo_ccl, z_steps, mass_grid, theta)\n",
    "        N_counts_true[:, i] = N_counts_temp\n",
    "            \n",
    "    t2 = time.process_time()\n",
    "    print(str(t2-t1) + ' s')\n",
    "\n",
    "    #shape_new = N_counts_true.shape[0] * N_counts_true.shape[1]\n",
    "    #N_counts_true = N_counts_true.reshape(shape_new)\n",
    "    return N_counts_true, mass_grid"
   ]
  },
  {
   "cell_type": "code",
   "execution_count": 57,
   "metadata": {},
   "outputs": [],
   "source": [
    "log10masses = np.linspace(14, 16, num = 5)\n",
    "z_min = np.linspace(0.1, 0.9, num = 5)\n",
    "z_max = np.linspace(0.2, 1.0, num = 5)\n",
    "log10masses_2d = np.stack((log10masses[:-1], log10masses[1:]))"
   ]
  },
  {
   "cell_type": "code",
   "execution_count": 58,
   "metadata": {},
   "outputs": [
    {
     "name": "stdout",
     "output_type": "stream",
     "text": [
      "(4, 1000)\n",
      "(4000,)\n",
      "0.6171798470000001 s\n"
     ]
    }
   ],
   "source": [
    "N_counts_true, mass_grid = all_n_counts_trapz(z_min, z_max, log10masses_2d, theta_fiducial)"
   ]
  },
  {
   "cell_type": "code",
   "execution_count": 59,
   "metadata": {},
   "outputs": [
    {
     "data": {
      "text/plain": [
       "array([[6.93570283e+03, 2.12245611e+04, 2.68131452e+04, 2.27865738e+04,\n",
       "        1.49412370e+04],\n",
       "       [5.42447860e+02, 1.28066151e+03, 1.17583495e+03, 6.77034429e+02,\n",
       "        2.84660843e+02],\n",
       "       [9.09725925e+00, 1.37157108e+01, 7.16038628e+00, 2.04769383e+00,\n",
       "        3.83229867e-01],\n",
       "       [5.72580092e-03, 3.66691546e-03, 6.34184903e-04, 4.53809242e-05,\n",
       "        1.68220280e-06]])"
      ]
     },
     "execution_count": 59,
     "metadata": {},
     "output_type": "execute_result"
    }
   ],
   "source": [
    "N_counts_true"
   ]
  },
  {
   "cell_type": "raw",
   "metadata": {},
   "source": [
    "array([6.93570283e+03, 2.12245611e+04, 2.68131452e+04, 2.27865738e+04,\n",
    "       1.49412370e+04, 5.42447860e+02, 1.28066151e+03, 1.17583495e+03,\n",
    "       6.77034429e+02, 2.84660843e+02, 9.09725925e+00, 1.37157108e+01,\n",
    "       7.16038628e+00, 2.04769383e+00, 3.83229867e-01, 5.72580092e-03,\n",
    "       3.66691546e-03, 6.34184903e-04, 4.53809242e-05, 1.68220280e-06])"
   ]
  },
  {
   "cell_type": "code",
   "execution_count": 63,
   "metadata": {},
   "outputs": [
    {
     "data": {
      "text/plain": [
       "array([[1.00000000e+14, 1.00115311e+14, 1.00230755e+14, ...,\n",
       "        3.15499735e+14, 3.15863541e+14, 3.16227766e+14],\n",
       "       [3.16227766e+14, 3.16592411e+14, 3.16957477e+14, ...,\n",
       "        9.97697764e+14, 9.98848219e+14, 1.00000000e+15],\n",
       "       [1.00000000e+15, 1.00115311e+15, 1.00230755e+15, ...,\n",
       "        3.15499735e+15, 3.15863541e+15, 3.16227766e+15],\n",
       "       [3.16227766e+15, 3.16592411e+15, 3.16957477e+15, ...,\n",
       "        9.97697764e+15, 9.98848219e+15, 1.00000000e+16]])"
      ]
     },
     "execution_count": 63,
     "metadata": {},
     "output_type": "execute_result"
    }
   ],
   "source": [
    "mass_grid"
   ]
  },
  {
   "cell_type": "markdown",
   "metadata": {},
   "source": [
    "## Step 1"
   ]
  },
  {
   "cell_type": "code",
   "execution_count": 114,
   "metadata": {},
   "outputs": [],
   "source": [
    "Y_bins_limits = [np.logspace(np.log10(8.6e-12), np.log10(3.9e-9), num = 16)]\n",
    "n_steps_Y = 100"
   ]
  },
  {
   "cell_type": "code",
   "execution_count": 115,
   "metadata": {},
   "outputs": [],
   "source": [
    "z_min = np.array([0.])\n",
    "z_max = np.array([0.25])\n",
    "n_steps_z = 100\n",
    "n_bins_z = len(z_min)\n",
    "\n",
    "\n",
    "n_steps_M_500 = 100\n",
    "log10_M_500_steps = np.linspace(6, 16, num = n_steps_M_500)\n",
    "M_500_steps = 10**log10_M_500_steps"
   ]
  },
  {
   "cell_type": "code",
   "execution_count": 160,
   "metadata": {},
   "outputs": [],
   "source": [
    "def compute_mass_calibration_params_array(theta_mass_calibration, M_500, z):\n",
    "    t1 = time.process_time()\n",
    "    alpha_Y = theta_mass_calibration[0]\n",
    "    beta_Y = theta_mass_calibration[1]\n",
    "    gamma_Y = theta_mass_calibration[2]\n",
    "    \n",
    "    Y_star = theta_mass_calibration[3]\n",
    "    M_star = theta_mass_calibration[4]\n",
    "    \n",
    "    alpha_sigma = theta_mass_calibration[5]\n",
    "    gamma_sigma = theta_mass_calibration[6]\n",
    "    sigma_logY0 = theta_mass_calibration[7]\n",
    "    \n",
    "    scale_fact_a = 1/(1+z)\n",
    "    #t2 = time.process_time()\n",
    "    \n",
    "    E_z = (ccl.background.h_over_h0(cosmo_ccl, scale_fact_a)**(2/3))\n",
    "    #if ccl.background.comoving_radial_distance(cosmo_ccl, scale_fact_a) == 0:\n",
    "     #   D_A_z = np.zeros(len(z))\n",
    "    #else:\n",
    "    D_A_z = (ccl.background.comoving_radial_distance(cosmo_ccl, scale_fact_a)/100)**(-2)\n",
    "   \n",
    "    mean_Y_500 = Y_star*((M_500/M_star)**alpha_Y)*np.exp(beta_Y*(np.log10(M_500/M_star)**2))*((1+z)**gamma_Y)*E_z*D_A_z\n",
    "    \n",
    "    sigma_logY_500 = sigma_logY0*((M_500/M_star)**alpha_sigma)*((1+z)**gamma_sigma)\n",
    "    \n",
    "    t2 = time.process_time()\n",
    "    #print(t2 - t1)\n",
    "    return mean_Y_500, sigma_logY_500"
   ]
  },
  {
   "cell_type": "markdown",
   "metadata": {},
   "source": [
    "#### (1)"
   ]
  },
  {
   "cell_type": "code",
   "execution_count": 117,
   "metadata": {},
   "outputs": [],
   "source": [
    "z_array = np.linspace(z_min, z_max, num = n_steps_z).reshape(1, n_steps_z)\n",
    "M_array = M_500_steps.reshape(n_steps_M_500, 1)"
   ]
  },
  {
   "cell_type": "code",
   "execution_count": 118,
   "metadata": {},
   "outputs": [],
   "source": [
    "z_array_flat = np.repeat(z_array, n_steps_M_500, axis=0).flatten()\n",
    "M_array_flat = np.repeat(M_array, n_steps_z, axis=1).flatten()"
   ]
  },
  {
   "cell_type": "code",
   "execution_count": 135,
   "metadata": {},
   "outputs": [],
   "source": [
    "a = 1/(1+z_array.flatten())\n",
    "hmf = [nM.get_mass_function(cosmo_ccl, M_500_steps, a_temp) for a_temp in a]\n",
    "            "
   ]
  },
  {
   "cell_type": "code",
   "execution_count": 119,
   "metadata": {},
   "outputs": [
    {
     "name": "stdout",
     "output_type": "stream",
     "text": [
      "0.0034815419999993935\n"
     ]
    },
    {
     "name": "stderr",
     "output_type": "stream",
     "text": [
      "/home/aizhana/.conda/envs/fast-mpi4py/lib/python3.7/site-packages/ipykernel_launcher.py:21: RuntimeWarning: divide by zero encountered in power\n"
     ]
    }
   ],
   "source": [
    "mean_Y_500_flat, sigma_logY_500_flat = compute_mass_calibration_params_array(theta_fiducial_mass_calibration, M_array_flat, z_array_flat)\n"
   ]
  },
  {
   "cell_type": "code",
   "execution_count": 120,
   "metadata": {},
   "outputs": [],
   "source": [
    "mean_Y_500 = mean_Y_500_flat.reshape(n_steps_M_500, n_steps_z)\n",
    "sigma_logY_500 = sigma_logY_500_flat.reshape(n_steps_M_500, n_steps_z)"
   ]
  },
  {
   "cell_type": "markdown",
   "metadata": {},
   "source": [
    "#### (2)"
   ]
  },
  {
   "cell_type": "code",
   "execution_count": 121,
   "metadata": {},
   "outputs": [],
   "source": [
    "n_steps_Mz = n_steps_z*n_steps_M_500"
   ]
  },
  {
   "cell_type": "code",
   "execution_count": 122,
   "metadata": {},
   "outputs": [
    {
     "name": "stdout",
     "output_type": "stream",
     "text": [
      "(100, 1)\n"
     ]
    },
    {
     "data": {
      "text/plain": [
       "(1000000,)"
      ]
     },
     "execution_count": 122,
     "metadata": {},
     "output_type": "execute_result"
    }
   ],
   "source": [
    "Y_bins_temp = np.linspace(Y_bins_limits[0][0], Y_bins_limits[0][1], num = n_steps_Y).reshape(n_steps_Y, 1)\n",
    "print(Y_bins_temp.shape)\n",
    "Y_500_array_flat = np.repeat(Y_bins_temp, n_steps_Mz, axis = 1).flatten()\n",
    "Y_500_array_flat.shape"
   ]
  },
  {
   "cell_type": "code",
   "execution_count": 123,
   "metadata": {},
   "outputs": [],
   "source": [
    "mean_Y_500_flat2 = np.repeat(mean_Y_500_flat.reshape(1, n_steps_Mz), n_steps_Y, axis = 0).flatten()\n",
    "sigma_logY_500_flat2 = np.repeat(sigma_logY_500_flat.reshape(1, n_steps_Mz), n_steps_Y, axis = 0).flatten()"
   ]
  },
  {
   "cell_type": "code",
   "execution_count": 217,
   "metadata": {},
   "outputs": [],
   "source": [
    "def compute_probability_Y_500_array(mean_Y_500, sigma_logY_500, Y_500_true): #, M_500, z):\n",
    "    t1 = time.process_time()\n",
    "    \n",
    "    #mean_Y_500, sigma_logY_500 = compute_mass_calibration_params(theta_mass_calibration, M_500, z)\n",
    "    \n",
    "    prob_Y_500_true = np.exp(-((np.log10(Y_500_true) - np.log10(mean_Y_500))**2)/(2*(sigma_logY_500**2)))/(np.sqrt(2*np.pi)*sigma_logY_500)/Y_500_true\n",
    "    \n",
    "    t2 = time.process_time()\n",
    "    #print(t2 - t1)\n",
    "    return prob_Y_500_true"
   ]
  },
  {
   "cell_type": "code",
   "execution_count": 180,
   "metadata": {},
   "outputs": [
    {
     "name": "stdout",
     "output_type": "stream",
     "text": [
      "0.06812016999999848\n"
     ]
    },
    {
     "data": {
      "text/plain": [
       "(100, 10000)"
      ]
     },
     "execution_count": 180,
     "metadata": {},
     "output_type": "execute_result"
    }
   ],
   "source": [
    "prob_Y_500_array = compute_probability_Y_500_array(mean_Y_500_flat2, sigma_logY_500_flat2, Y_500_array_flat)\n",
    "prob_Y_500_array = prob_Y_500_array.reshape(n_steps_Y, n_steps_Mz)\n",
    "prob_Y_500_array.shape"
   ]
  },
  {
   "cell_type": "code",
   "execution_count": 181,
   "metadata": {},
   "outputs": [],
   "source": [
    "integral_trapz1 = np.trapz(prob_Y_500_array, Y_bins_temp, axis = 0)\n",
    "integral_trapz1 = integral_trapz1.reshape(n_steps_M_500, n_steps_z)"
   ]
  },
  {
   "cell_type": "code",
   "execution_count": 182,
   "metadata": {},
   "outputs": [
    {
     "data": {
      "text/plain": [
       "(100, 100)"
      ]
     },
     "execution_count": 182,
     "metadata": {},
     "output_type": "execute_result"
    }
   ],
   "source": [
    "integral_trapz1 = np.array(hmf).T*integral_trapz1\n",
    "integral_trapz1.shape"
   ]
  },
  {
   "cell_type": "code",
   "execution_count": 183,
   "metadata": {},
   "outputs": [
    {
     "data": {
      "text/plain": [
       "(100,)"
      ]
     },
     "execution_count": 183,
     "metadata": {},
     "output_type": "execute_result"
    }
   ],
   "source": [
    "M_500_integral = np.trapz(integral_trapz1, log10_M_500_steps, axis = 0)\n",
    "M_500_integral.shape"
   ]
  },
  {
   "cell_type": "code",
   "execution_count": 184,
   "metadata": {},
   "outputs": [
    {
     "data": {
      "text/plain": [
       "(100,)"
      ]
     },
     "execution_count": 184,
     "metadata": {},
     "output_type": "execute_result"
    }
   ],
   "source": [
    "H0 = 100 * 0.69\n",
    "c = ccl.physical_constants.CLIGHT * 1e-3  # in km/s\n",
    "\n",
    "H_z = H0 * ccl.background.h_over_h0(cosmo_ccl, a)\n",
    "factor = 4 * np.pi * (c / H_z) * (ccl.background.comoving_radial_distance(cosmo_ccl, a) ** 2)\n",
    "   \n",
    "factor.shape"
   ]
  },
  {
   "cell_type": "code",
   "execution_count": 185,
   "metadata": {},
   "outputs": [
    {
     "data": {
      "text/plain": [
       "9715.155508234222"
      ]
     },
     "execution_count": 185,
     "metadata": {},
     "output_type": "execute_result"
    }
   ],
   "source": [
    "np.trapz(M_500_integral*factor, z_array.flatten())"
   ]
  },
  {
   "cell_type": "markdown",
   "metadata": {},
   "source": [
    "#### (3)"
   ]
  },
  {
   "cell_type": "code",
   "execution_count": 162,
   "metadata": {},
   "outputs": [],
   "source": [
    "def compute_Y500_integral(index, Y_bins_limits, mean_Y_500_flat2, sigma_logY_500_flat2, n_steps_M_500, n_steps_z, n_steps_Y):\n",
    "    Y_bins_min = Y_bins_limits[index]\n",
    "    Y_bins_max = Y_bins_limits[index+1]\n",
    "    Y_bins_temp = np.linspace(Y_bins_min, Y_bins_max, num = n_steps_Y).reshape(n_steps_Y, 1)\n",
    "    \n",
    "    Y_500_array_flat = np.repeat(Y_bins_temp, n_steps_Mz, axis = 1).flatten()\n",
    "    \n",
    "    prob_Y_500_array = compute_probability_Y_500_array(mean_Y_500_flat2, sigma_logY_500_flat2, Y_500_array_flat).reshape(n_steps_Y, n_steps_Mz)\n",
    "    \n",
    "    Y500_integral = np.trapz(prob_Y_500_array, Y_bins_temp, axis = 0).reshape(n_steps_M_500, n_steps_z)\n",
    "    \n",
    "    return Y500_integral"
   ]
  },
  {
   "cell_type": "code",
   "execution_count": 193,
   "metadata": {},
   "outputs": [
    {
     "name": "stdout",
     "output_type": "stream",
     "text": [
      "0.07139154899999944\n"
     ]
    },
    {
     "data": {
      "text/plain": [
       "(100, 100)"
      ]
     },
     "execution_count": 193,
     "metadata": {},
     "output_type": "execute_result"
    }
   ],
   "source": [
    "Y500_integral = compute_Y500_integral(0, Y_bins_limits[0], mean_Y_500_flat2, sigma_logY_500_flat2, n_steps_M_500, n_steps_z, n_steps_Y)\n",
    "Y500_integral.shape"
   ]
  },
  {
   "cell_type": "code",
   "execution_count": 194,
   "metadata": {},
   "outputs": [],
   "source": [
    "def compute_M500_integral(Y500_integral, hmf, log10_M_500_steps):\n",
    "    Y500_integral = np.array(hmf).T*Y500_integral\n",
    "    M_500_integral = np.trapz(Y500_integral, log10_M_500_steps, axis = 0)\n",
    "    \n",
    "    return M_500_integral\n",
    "    "
   ]
  },
  {
   "cell_type": "code",
   "execution_count": 195,
   "metadata": {},
   "outputs": [],
   "source": [
    "M500_integral = compute_M500_integral(Y500_integral, hmf, log10_M_500_steps)"
   ]
  },
  {
   "cell_type": "code",
   "execution_count": 196,
   "metadata": {},
   "outputs": [],
   "source": [
    "H0 = 100 * 0.69\n",
    "c = ccl.physical_constants.CLIGHT * 1e-3  # in km/s\n",
    "\n",
    "H_z = H0 * ccl.background.h_over_h0(cosmo_ccl, a)\n",
    "factor = 4 * np.pi * (c / H_z) * (ccl.background.comoving_radial_distance(cosmo_ccl, a) ** 2)\n",
    "   \n",
    "def compute_N_integral(M_500_integral, factor, z_array):\n",
    "    N_counts = np.trapz(M_500_integral*factor, z_array.flatten())\n",
    "    \n",
    "    return N_counts"
   ]
  },
  {
   "cell_type": "code",
   "execution_count": 197,
   "metadata": {},
   "outputs": [
    {
     "data": {
      "text/plain": [
       "9715.155508234222"
      ]
     },
     "execution_count": 197,
     "metadata": {},
     "output_type": "execute_result"
    }
   ],
   "source": [
    "compute_N_integral(M_500_integral, factor, z_array)"
   ]
  },
  {
   "cell_type": "markdown",
   "metadata": {},
   "source": [
    "## Step 2"
   ]
  },
  {
   "cell_type": "code",
   "execution_count": 227,
   "metadata": {},
   "outputs": [],
   "source": [
    "hm_def = ccl.halos.MassDef(500, 'critical')\n",
    "cosmo_ccl = N_countsSimulator.cosmo(theta_fiducial)\n",
    "nM = ccl.halos.MassFuncTinker08(cosmo_ccl, mass_def=hm_def)"
   ]
  },
  {
   "cell_type": "code",
   "execution_count": 232,
   "metadata": {},
   "outputs": [],
   "source": [
    "#z_min = np.array([0.])\n",
    "#z_max = np.array([0.25])\n",
    "z_min = np.array([0., 0.25, 0.5, 0.75, 1.])\n",
    "z_max = np.array([0.25, 0.5, 0.75, 1., 1.5])\n",
    "n_steps_z = 100\n",
    "n_bins_z = len(z_min)\n",
    "\n",
    "\n",
    "n_steps_M_500 = 100\n",
    "log10_M_500_steps = np.linspace(6, 16, num = n_steps_M_500)\n",
    "M_500_steps = 10**log10_M_500_steps\n",
    "\n",
    "n_steps_Mz = n_steps_z*n_steps_M_500\n",
    "\n",
    "#Y_bins_limits = [np.logspace(np.log10(8.6e-12), np.log10(3.9e-9), num = 16)]\n",
    "Y_bins_limits = [np.logspace(np.log10(8.6e-12), np.log10(3.9e-9), num = 16),\n",
    "                 np.logspace(np.log10(4.3e-12), np.log10(5.1e-10), num = 15),\n",
    "                 np.logspace(np.log10(3.1e-12), np.log10(1.8e-10), num = 16),\n",
    "                 np.logspace(np.log10(3.1e-12), np.log10(1.1e-10), num = 14),\n",
    "                 np.logspace(np.log10(2.5e-12), np.log10(6.6e-11), num = 13)]\n",
    "n_steps_Y = 1000"
   ]
  },
  {
   "cell_type": "code",
   "execution_count": 233,
   "metadata": {},
   "outputs": [
    {
     "name": "stderr",
     "output_type": "stream",
     "text": [
      "/home/aizhana/.conda/envs/fast-mpi4py/lib/python3.7/site-packages/ipykernel_launcher.py:21: RuntimeWarning: divide by zero encountered in power\n"
     ]
    },
    {
     "name": "stdout",
     "output_type": "stream",
     "text": [
      "0\n",
      "1\n",
      "2\n",
      "3\n",
      "4\n",
      "59.98865592199999\n"
     ]
    }
   ],
   "source": [
    "M_array = M_500_steps.reshape(n_steps_M_500, 1)\n",
    "M_array_flat = np.repeat(M_array, n_steps_z, axis=1).flatten()\n",
    "\n",
    "H0 = 100 * 0.69\n",
    "c = ccl.physical_constants.CLIGHT * 1e-3  # in km/s\n",
    "\n",
    "N_counts = []\n",
    "\n",
    "t1 = time.process_time()\n",
    "\n",
    "for i in range(n_bins_z):\n",
    "    z_array = np.linspace(z_min[i], z_max[i], num = n_steps_z).reshape(1, n_steps_z)\n",
    "    z_array_flat = np.repeat(z_array, n_steps_M_500, axis=0).flatten()\n",
    "    \n",
    "    a = 1/(1+z_array.flatten())\n",
    "    hmf = [nM.get_mass_function(cosmo_ccl, M_500_steps, a_temp) for a_temp in a]\n",
    "    H_z = H0 * ccl.background.h_over_h0(cosmo_ccl, a)\n",
    "    factor = 4 * np.pi * (c / H_z) * (ccl.background.comoving_radial_distance(cosmo_ccl, a) ** 2)\n",
    "    \n",
    "    mean_Y_500_flat, sigma_logY_500_flat = compute_mass_calibration_params_array(theta_fiducial_mass_calibration, M_array_flat, z_array_flat)\n",
    "    \n",
    "    mean_Y_500_flat2 = np.repeat(mean_Y_500_flat.reshape(1, n_steps_Mz), n_steps_Y, axis = 0).flatten()\n",
    "    sigma_logY_500_flat2 = np.repeat(sigma_logY_500_flat.reshape(1, n_steps_Mz), n_steps_Y, axis = 0).flatten()\n",
    "    \n",
    "    indices = np.linspace(0, len(Y_bins_limits[i])-2, num = len(Y_bins_limits[i])-1).astype(int)\n",
    "    Y500_integral = [compute_Y500_integral(j, Y_bins_limits[i], mean_Y_500_flat2, sigma_logY_500_flat2, n_steps_M_500, n_steps_z, n_steps_Y)\n",
    "                     for j in indices]\n",
    "    \n",
    "    M500_integral = [compute_M500_integral(Y500_integral_temp, hmf, log10_M_500_steps) for Y500_integral_temp in Y500_integral]\n",
    "    \n",
    "    N_counts_temp = np.array([compute_N_integral(M_500_integral_temp, factor, z_array) for M_500_integral_temp in M500_integral])\n",
    "    N_counts.append(N_counts_temp)\n",
    "    \n",
    "    print(i)\n",
    "    \n",
    "t2 = time.process_time()\n",
    "print(t2 - t1)"
   ]
  },
  {
   "cell_type": "code",
   "execution_count": 224,
   "metadata": {},
   "outputs": [
    {
     "data": {
      "text/plain": [
       "5"
      ]
     },
     "execution_count": 224,
     "metadata": {},
     "output_type": "execute_result"
    }
   ],
   "source": [
    "len(N_counts)"
   ]
  },
  {
   "cell_type": "code",
   "execution_count": 236,
   "metadata": {},
   "outputs": [
    {
     "data": {
      "text/plain": [
       "[array([9925, 6682, 4415, 2829, 1930, 1202,  701,  397,  240,  141,   88,\n",
       "          45,   26,   17,    6]),\n",
       " array([12049,  7676,  4858,  2938,  1730,   994,   557,   297,   148,\n",
       "           51,    32,     8,     4,     0]),\n",
       " array([5181, 3326, 2181, 1307,  790,  496,  258,  130,   60,   37,   11,\n",
       "           7,    3,    1,    0]),\n",
       " array([1171,  719,  364,  184,   89,   40,   18,    8,    4,    0,    0,\n",
       "           0,    0]),\n",
       " array([413, 200,  95,  40,  23,  10,   2,   0,   0,   0,   0,   0])]"
      ]
     },
     "execution_count": 236,
     "metadata": {},
     "output_type": "execute_result"
    }
   ],
   "source": [
    "[np.random.poisson(N_counts_temp) for N_counts_temp in N_counts]"
   ]
  },
  {
   "cell_type": "code",
   "execution_count": 234,
   "metadata": {},
   "outputs": [
    {
     "data": {
      "text/plain": [
       "[array([9.71507675e+03, 6.63705165e+03, 4.43784687e+03, 2.90020758e+03,\n",
       "        1.85061420e+03, 1.15259304e+03, 7.00993313e+02, 4.16920354e+02,\n",
       "        2.43073721e+02, 1.39361773e+02, 7.88474660e+01, 4.41672452e+01,\n",
       "        2.45604638e+01, 1.35830938e+01, 7.47954642e+00]),\n",
       " array([1.18967748e+04, 7.73536905e+03, 4.88165970e+03, 2.98023695e+03,\n",
       "        1.75364735e+03, 9.90583369e+02, 5.34782217e+02, 2.74595011e+02,\n",
       "        1.33381913e+02, 6.09208870e+01, 2.59873146e+01, 1.02751946e+01,\n",
       "        3.73359715e+00, 1.23456863e+00]),\n",
       " array([5.28805119e+03, 3.43171841e+03, 2.16849843e+03, 1.33091204e+03,\n",
       "        7.91357858e+02, 4.54523768e+02, 2.51388095e+02, 1.33447021e+02,\n",
       "        6.77293358e+01, 3.27365630e+01, 1.50028578e+01, 6.48719102e+00,\n",
       "        2.63351072e+00, 9.97708694e-01, 3.50633226e-01]),\n",
       " array([1.24164205e+03, 7.01418843e+02, 3.81161899e+02, 1.98543563e+02,\n",
       "        9.87295660e+01, 4.66894801e+01, 2.08942037e+01, 8.80562124e+00,\n",
       "        3.47638496e+00, 1.27749136e+00, 4.34507806e-01, 1.35730367e-01,\n",
       "        3.86725574e-02]),\n",
       " array([3.89047998e+02, 1.94544754e+02, 9.28995806e+01, 4.22074890e+01,\n",
       "        1.81538737e+01, 7.36014317e+00, 2.79695939e+00, 9.90323500e-01,\n",
       "        3.24843998e-01, 9.79343576e-02, 2.69706941e-02, 6.72176927e-03])]"
      ]
     },
     "execution_count": 234,
     "metadata": {},
     "output_type": "execute_result"
    }
   ],
   "source": [
    "N_counts"
   ]
  },
  {
   "cell_type": "code",
   "execution_count": 230,
   "metadata": {},
   "outputs": [
    {
     "data": {
      "text/plain": [
       "[array([9.71591005e+03, 6.63771574e+03, 4.43837315e+03, 2.90062290e+03,\n",
       "        1.85094144e+03, 1.15285092e+03, 7.01196947e+02, 4.17081747e+02,\n",
       "        2.43202194e+02, 1.39464317e+02, 7.89295980e+01, 4.42331838e+01,\n",
       "        2.46133952e+01, 1.36255785e+01, 7.51361504e+00]),\n",
       " array([1.18968539e+04, 7.73540537e+03, 4.88166961e+03, 2.98023236e+03,\n",
       "        1.75363632e+03, 9.90570895e+02, 5.34771034e+02, 2.74586289e+02,\n",
       "        1.33375798e+02, 6.09169794e+01, 2.59850299e+01, 1.02739754e+01,\n",
       "        3.73300665e+00, 1.23431081e+00]),\n",
       " array([5.28803139e+03, 3.43169806e+03, 2.16847990e+03, 1.33089641e+03,\n",
       "        7.91345533e+02, 4.54514598e+02, 2.51381622e+02, 1.33442701e+02,\n",
       "        6.77266020e+01, 3.27349279e+01, 1.50019375e+01, 6.48670396e+00,\n",
       "        2.63327007e+00, 9.97598045e-01, 3.50586156e-01]),\n",
       " array([1.24162673e+03, 7.01407865e+02, 3.81154434e+02, 1.98538751e+02,\n",
       "        9.87266264e+01, 4.66877842e+01, 2.08932828e+01, 8.80515206e+00,\n",
       "        3.47616203e+00, 1.27739300e+00, 4.34467756e-01, 1.35715429e-01,\n",
       "        3.86674824e-02]),\n",
       " array([3.89008726e+02, 1.94521765e+02, 9.28867279e+01, 4.22006597e+01,\n",
       "        1.81504385e+01, 7.35851440e+00, 2.79623607e+00, 9.90024011e-01,\n",
       "        3.24729215e-01, 9.78939152e-02, 2.69576814e-02, 6.71798275e-03])]"
      ]
     },
     "execution_count": 230,
     "metadata": {},
     "output_type": "execute_result"
    }
   ],
   "source": [
    "N_counts"
   ]
  },
  {
   "cell_type": "code",
   "execution_count": 225,
   "metadata": {},
   "outputs": [
    {
     "data": {
      "text/plain": [
       "[array([9.71515551e+03, 6.63710787e+03, 4.43788626e+03, 2.90023461e+03,\n",
       "        1.85063232e+03, 1.15260489e+03, 7.01000871e+02, 4.16925048e+02,\n",
       "        2.43076563e+02, 1.39363454e+02, 7.88484399e+01, 4.41678004e+01,\n",
       "        2.45607765e+01, 1.35832685e+01, 7.47964329e+00]),\n",
       " array([1.18968596e+04, 7.73542768e+03, 4.88169927e+03, 2.98026291e+03,\n",
       "        1.75366385e+03, 9.90593491e+02, 5.34788185e+02, 2.74598377e+02,\n",
       "        1.33383718e+02, 6.09218025e+01, 2.59877509e+01, 1.02753886e+01,\n",
       "        3.73367687e+00, 1.23459864e+00]),\n",
       " array([5.28808066e+03, 3.43173877e+03, 2.16851216e+03, 1.33092109e+03,\n",
       "        7.91363649e+02, 4.54527362e+02, 2.51390254e+02, 1.33448269e+02,\n",
       "        6.77300284e+01, 3.27369306e+01, 1.50030434e+01, 6.48727994e+00,\n",
       "        2.63355080e+00, 9.97725635e-01, 3.50639895e-01]),\n",
       " array([1.24165158e+03, 7.01424667e+02, 3.81165336e+02, 1.98545512e+02,\n",
       "        9.87306286e+01, 4.66900318e+01, 2.08944762e+01, 8.80574858e+00,\n",
       "        3.47644079e+00, 1.27751431e+00, 4.34516542e-01, 1.35733438e-01,\n",
       "        3.86735458e-02]),\n",
       " array([3.89051790e+02, 1.94546813e+02, 9.29006543e+01, 4.22080219e+01,\n",
       "        1.81541260e+01, 7.36025598e+00, 2.79700683e+00, 9.90342216e-01,\n",
       "        3.24850835e-01, 9.79366721e-02, 2.69714100e-02, 6.72197065e-03])]"
      ]
     },
     "execution_count": 225,
     "metadata": {},
     "output_type": "execute_result"
    }
   ],
   "source": [
    "N_counts"
   ]
  },
  {
   "cell_type": "code",
   "execution_count": 231,
   "metadata": {},
   "outputs": [
    {
     "data": {
      "text/plain": [
       "<matplotlib.legend.Legend at 0x2abc0b596250>"
      ]
     },
     "execution_count": 231,
     "metadata": {},
     "output_type": "execute_result"
    },
    {
     "data": {
      "image/png": "[encoded data removed]",
      "text/plain": [
       "<Figure size 900x600 with 1 Axes>"
      ]
     },
     "metadata": {
      "needs_background": "light"
     },
     "output_type": "display_data"
    }
   ],
   "source": [
    "plt.figure()\n",
    "plt.ylabel(r'$N(\\Delta Y)$')\n",
    "plt.xlabel(r'$Y_{500}$')\n",
    "plt.xscale('log')\n",
    "plt.yscale('log')\n",
    "for i in range(len(z_max)):\n",
    "    plt.plot(Y_bins_limits[i][:-1], N_counts[i], c=color_map(i), marker = 'o', \n",
    "             label = 'z = {z_min} - {z_max}'.format(z_min = z_min[i], z_max = z_max[i]))\n",
    "plt.legend(loc = 'best')"
   ]
  },
  {
   "cell_type": "code",
   "execution_count": 226,
   "metadata": {},
   "outputs": [
    {
     "data": {
      "text/plain": [
       "<matplotlib.legend.Legend at 0x2abc0b0a2bd0>"
      ]
     },
     "execution_count": 226,
     "metadata": {},
     "output_type": "execute_result"
    },
    {
     "data": {
      "image/png": "[encoded data removed]",
      "text/plain": [
       "<Figure size 900x600 with 1 Axes>"
      ]
     },
     "metadata": {
      "needs_background": "light"
     },
     "output_type": "display_data"
    }
   ],
   "source": [
    "plt.figure()\n",
    "plt.ylabel(r'$N(\\Delta Y)$')\n",
    "plt.xlabel(r'$Y_{500}$')\n",
    "plt.xscale('log')\n",
    "plt.yscale('log')\n",
    "for i in range(len(z_max)):\n",
    "    plt.plot(Y_bins_limits[i][:-1], N_counts[i], c=color_map(i), marker = 'o', \n",
    "             label = 'z = {z_min} - {z_max}'.format(z_min = z_min[i], z_max = z_max[i]))\n",
    "plt.legend(loc = 'best')"
   ]
  },
  {
   "cell_type": "code",
   "execution_count": 208,
   "metadata": {},
   "outputs": [
    {
     "data": {
      "text/plain": [
       "array([9.71515551e+03, 6.63710787e+03, 4.43788626e+03, 2.90023461e+03,\n",
       "       1.85063232e+03, 1.15260489e+03, 7.01000871e+02, 4.16925048e+02,\n",
       "       2.43076563e+02, 1.39363454e+02, 7.88484399e+01, 4.41678004e+01,\n",
       "       2.45607765e+01, 1.35832685e+01, 7.47964329e+00])"
      ]
     },
     "execution_count": 208,
     "metadata": {},
     "output_type": "execute_result"
    }
   ],
   "source": [
    "counts"
   ]
  },
  {
   "cell_type": "code",
   "execution_count": null,
   "metadata": {},
   "outputs": [],
   "source": []
  },
  {
   "cell_type": "code",
   "execution_count": null,
   "metadata": {},
   "outputs": [],
   "source": []
  },
  {
   "cell_type": "code",
   "execution_count": null,
   "metadata": {},
   "outputs": [],
   "source": []
  }
 ],
 "metadata": {
  "celltoolbar": "Slideshow",
  "kernelspec": {
   "display_name": "fast-mpi4py [~/.conda/envs/fast-mpi4py/]",
   "language": "python",
   "name": "conda_fast-mpi4py"
  },
  "language_info": {
   "codemirror_mode": {
    "name": "ipython",
    "version": 3
   },
   "file_extension": ".py",
   "mimetype": "text/x-python",
   "name": "python",
   "nbconvert_exporter": "python",
   "pygments_lexer": "ipython3",
   "version": "3.7.7"
  }
 },
 "nbformat": 4,
 "nbformat_minor": 2
}
