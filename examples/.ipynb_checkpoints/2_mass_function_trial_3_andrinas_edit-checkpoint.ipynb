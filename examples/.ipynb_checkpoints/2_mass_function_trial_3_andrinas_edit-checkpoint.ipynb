{
 "cells": [
  {
   "cell_type": "markdown",
   "metadata": {
    "slideshow": {
     "slide_type": "slide"
    }
   },
   "source": [
    "## Import your stuff"
   ]
  },
  {
   "cell_type": "code",
   "execution_count": 1,
   "metadata": {
    "slideshow": {
     "slide_type": "-"
    }
   },
   "outputs": [
    {
     "name": "stdout",
     "output_type": "stream",
     "text": [
      "WARNING:tensorflow:From /home/aizhana/.conda/envs/fast-mpi4py/lib/python3.7/site-packages/pydelfi/train.py:9: The name tf.train.AdamOptimizer is deprecated. Please use tf.compat.v1.train.AdamOptimizer instead.\n",
      "\n"
     ]
    }
   ],
   "source": [
    "import numpy as np\n",
    "import simulators.jla_supernovae.jla_simulator as jla\n",
    "import pydelfi.ndes as ndes\n",
    "import pydelfi.delfi as delfi\n",
    "import pydelfi.score as score\n",
    "import pydelfi.priors as priors\n",
    "import tensorflow as tf\n",
    "tf.logging.set_verbosity(tf.logging.ERROR)\n",
    "%matplotlib inline"
   ]
  },
  {
   "cell_type": "code",
   "execution_count": 2,
   "metadata": {},
   "outputs": [
    {
     "name": "stdout",
     "output_type": "stream",
     "text": [
      "CCL version you are using: 2.1.0\n"
     ]
    }
   ],
   "source": [
    "import pylab as plt\n",
    "import pyccl as ccl\n",
    "import scipy\n",
    "from scipy.interpolate import interp1d\n",
    "\n",
    "import matplotlib\n",
    "%matplotlib inline\n",
    "\n",
    "import time\n",
    "import importlib\n",
    "\n",
    "print(\"CCL version you are using:\",ccl.__version__)"
   ]
  },
  {
   "cell_type": "code",
   "execution_count": 3,
   "metadata": {},
   "outputs": [],
   "source": [
    "font_config = {\"size\" : 10,\n",
    "               \"family\" : \"serif\"}\n",
    "\n",
    "matplotlib.rc(\"font\", **font_config)\n",
    "matplotlib.rc(\"text\", usetex=True)\n",
    "# Move title to make space for exponents of y axis\n",
    "matplotlib.rc(\"axes\", titlepad=5) \n",
    "matplotlib.rc(\"axes\", titlesize=\"medium\") \n",
    "\n",
    "# Make the figures bigger in the notebook\n",
    "matplotlib.rc(\"figure\", dpi=150)\n",
    "\n",
    "color_map = plt.get_cmap(\"tab10\")\n",
    "\n",
    "paper_textwidth = 7.125\n",
    "fig_size = (paper_textwidth/2, 2.6)\n",
    "\n",
    "plot_adjust = dict(left=0.2, top=0.9, bottom=0.2)"
   ]
  },
  {
   "cell_type": "code",
   "execution_count": 4,
   "metadata": {},
   "outputs": [
    {
     "data": {
      "text/plain": [
       "<module 'simulators.mass_function_n_counts.simulator_trapz_andrinas_edit' from '/home/aizhana/pydelfi_cluster_counts/examples/simulators/mass_function_n_counts/simulator_trapz_andrinas_edit.py'>"
      ]
     },
     "execution_count": 4,
     "metadata": {},
     "output_type": "execute_result"
    }
   ],
   "source": [
    "import simulators.mass_function_n_counts.simulator_trapz_andrinas_edit as n_counts_simulator\n",
    "importlib.reload(n_counts_simulator)"
   ]
  },
  {
   "cell_type": "markdown",
   "metadata": {},
   "source": [
    "## Set up priors on params of interest (for now): {$\\Omega_{m}h^{2} = \\Omega_{cdm}h^{2} + \\Omega_{b}h^{2}$, $\\sigma_{8}$, $h$, $n_{s}$, $w_{0}$}"
   ]
  },
  {
   "cell_type": "code",
   "execution_count": 5,
   "metadata": {},
   "outputs": [],
   "source": [
    "lower = np.array([0.1125, 0.020, 0.6, 0.55, 0.94, -2.50])\n",
    "upper = np.array([0.1275, 0.024, 1.1, 0.90, 1.00, -0.33])\n",
    "prior = priors.Uniform(lower, upper)"
   ]
  },
  {
   "cell_type": "code",
   "execution_count": 6,
   "metadata": {},
   "outputs": [],
   "source": [
    "theta_fiducial = np.array([0.1197, 0.02222, 0.76, 0.69, 0.9655, -1])\n"
   ]
  },
  {
   "cell_type": "markdown",
   "metadata": {},
   "source": [
    "## Set up the simulator\n",
    "This must have the signature `simulator(parameters, seed, args, batch)` -> `np.array([batch, ndata])`"
   ]
  },
  {
   "cell_type": "code",
   "execution_count": 7,
   "metadata": {},
   "outputs": [
    {
     "data": {
      "text/plain": [
       "<module 'simulators.mass_function_n_counts.simulator_trapz_andrinas_edit' from '/home/aizhana/pydelfi_cluster_counts/examples/simulators/mass_function_n_counts/simulator_trapz_andrinas_edit.py'>"
      ]
     },
     "execution_count": 7,
     "metadata": {},
     "output_type": "execute_result"
    }
   ],
   "source": [
    "importlib.reload(n_counts_simulator)"
   ]
  },
  {
   "cell_type": "code",
   "execution_count": 8,
   "metadata": {},
   "outputs": [],
   "source": [
    "N_countsSimulator = n_counts_simulator.Model()"
   ]
  },
  {
   "cell_type": "code",
   "execution_count": 9,
   "metadata": {},
   "outputs": [
    {
     "data": {
      "text/plain": [
       "array([1.78484613e+04, 5.76969893e+04, 7.91958165e+04, 7.60278893e+04,\n",
       "       5.88511940e+04, 2.53148842e+03, 6.50855639e+03, 6.79903632e+03,\n",
       "       4.77688556e+03, 2.60820123e+03, 1.41327071e+02, 2.40973371e+02,\n",
       "       1.54407289e+02, 6.19683804e+01, 1.80223466e+01, 1.15793270e+00,\n",
       "       8.97133179e-01, 2.22000351e-01, 2.95440371e-02, 2.45071739e-03])"
      ]
     },
     "execution_count": 9,
     "metadata": {},
     "output_type": "execute_result"
    }
   ],
   "source": [
    "N_countsSimulator.N_counts"
   ]
  },
  {
   "cell_type": "code",
   "execution_count": 10,
   "metadata": {},
   "outputs": [],
   "source": [
    "log10masses = np.linspace(14, 16, num = 5)\n",
    "z_min = np.linspace(0.1, 0.9, num = 5)\n",
    "z_max = np.linspace(0.2, 1.0, num = 5)\n",
    "log10masses_2d = np.stack((log10masses[:-1], log10masses[1:]))"
   ]
  },
  {
   "cell_type": "code",
   "execution_count": 11,
   "metadata": {},
   "outputs": [
    {
     "name": "stdout",
     "output_type": "stream",
     "text": [
      "0.75142584 s\n"
     ]
    },
    {
     "data": {
      "text/plain": [
       "array([ 5389.8009519 , 17168.74753011, 23234.67350825, 22065.05215602,\n",
       "       16962.2080584 ,  5199.23461887, 16423.75731783, 22039.68694332,\n",
       "       20757.06955939, 15827.82735363,  5010.0648901 , 15694.20633604,\n",
       "       20883.97079553, 19506.37417823, 14754.38904041,  4822.61905025,\n",
       "       14980.95029623, 19767.90723047, 18312.09111024, 13739.90025308])"
      ]
     },
     "execution_count": 11,
     "metadata": {},
     "output_type": "execute_result"
    }
   ],
   "source": [
    "N_countsSimulator.all_n_counts_trapz(z_min, z_max, log10masses_2d, theta_fiducial)"
   ]
  },
  {
   "cell_type": "markdown",
   "metadata": {},
   "source": [
    "## HMF plot"
   ]
  },
  {
   "cell_type": "code",
   "execution_count": 12,
   "metadata": {},
   "outputs": [],
   "source": [
    "masses = np.logspace(14, 16, num = 10)\n",
    "z = np.array([0.0])\n",
    "cosmo_ccl = N_countsSimulator.cosmo(theta_fiducial)\n",
    "hmc = N_countsSimulator.halo_mass_function(cosmo_ccl, masses, z)"
   ]
  },
  {
   "cell_type": "code",
   "execution_count": 13,
   "metadata": {},
   "outputs": [
    {
     "data": {
      "text/plain": [
       "[<matplotlib.lines.Line2D at 0x2b4fb39bf9d0>]"
      ]
     },
     "execution_count": 13,
     "metadata": {},
     "output_type": "execute_result"
    },
    {
     "data": {
      "image/png": "[encoded data removed]",
      "text/plain": [
       "<Figure size 900x600 with 1 Axes>"
      ]
     },
     "metadata": {
      "needs_background": "light"
     },
     "output_type": "display_data"
    }
   ],
   "source": [
    "plt.figure()\n",
    "plt.ylabel(r'$\\frac{dn}{d\\log_{10}M}\\,[{\\rm Mpc}^{-3}]$')\n",
    "plt.xlabel(r'$M$ [M$_{\\odot}$]')\n",
    "plt.xscale('log')\n",
    "plt.yscale('log')\n",
    "plt.plot(masses, hmc[0,:], c=color_map(0))"
   ]
  },
  {
   "cell_type": "markdown",
   "metadata": {},
   "source": [
    "## For 1 mass bin (14 to 14.5)"
   ]
  },
  {
   "cell_type": "code",
   "execution_count": 14,
   "metadata": {},
   "outputs": [],
   "source": [
    "cosmo_ccl = N_countsSimulator.cosmo(theta_fiducial)"
   ]
  },
  {
   "cell_type": "code",
   "execution_count": 15,
   "metadata": {},
   "outputs": [],
   "source": [
    "log10masses = np.linspace(14., 14.5, num = 2)\n",
    "z_min = np.array([0.1])\n",
    "z_max = np.array([0.2])\n",
    "\n",
    "n_steps_masses = 1000\n",
    "n_steps_z = 100\n",
    "\n",
    "log10masses_2d = np.stack((log10masses[:-1], log10masses[1:]))"
   ]
  },
  {
   "cell_type": "code",
   "execution_count": 16,
   "metadata": {},
   "outputs": [
    {
     "name": "stdout",
     "output_type": "stream",
     "text": [
      "0.28879119499999995 s\n"
     ]
    },
    {
     "data": {
      "text/plain": [
       "array([17787.26407648])"
      ]
     },
     "execution_count": 16,
     "metadata": {},
     "output_type": "execute_result"
    }
   ],
   "source": [
    "N_countsSimulator.all_n_counts_trapz(z_min, z_max, log10masses_2d, theta_fiducial)"
   ]
  },
  {
   "cell_type": "markdown",
   "metadata": {},
   "source": [
    "## For 2 mass bins (14 to 14.5 and 14.5 to 15) and the same redshift bin"
   ]
  },
  {
   "cell_type": "code",
   "execution_count": 17,
   "metadata": {},
   "outputs": [],
   "source": [
    "log10masses = np.linspace(14., 15, num = 3)\n",
    "log10masses_2d = np.stack((log10masses[:-1], log10masses[1:]))"
   ]
  },
  {
   "cell_type": "code",
   "execution_count": 18,
   "metadata": {},
   "outputs": [
    {
     "name": "stdout",
     "output_type": "stream",
     "text": [
      "0.31196843200000046 s\n"
     ]
    },
    {
     "data": {
      "text/plain": [
       "array([10526.03322217,  9784.6584691 ])"
      ]
     },
     "execution_count": 18,
     "metadata": {},
     "output_type": "execute_result"
    }
   ],
   "source": [
    "N_countsSimulator.all_n_counts_trapz(z_min, z_max, log10masses_2d, theta_fiducial)"
   ]
  },
  {
   "cell_type": "code",
   "execution_count": null,
   "metadata": {},
   "outputs": [],
   "source": []
  },
  {
   "cell_type": "code",
   "execution_count": null,
   "metadata": {},
   "outputs": [],
   "source": []
  },
  {
   "cell_type": "code",
   "execution_count": null,
   "metadata": {},
   "outputs": [],
   "source": []
  },
  {
   "cell_type": "code",
   "execution_count": null,
   "metadata": {},
   "outputs": [],
   "source": []
  },
  {
   "cell_type": "markdown",
   "metadata": {},
   "source": [
    "## Set up simulator"
   ]
  },
  {
   "cell_type": "code",
   "execution_count": null,
   "metadata": {},
   "outputs": [],
   "source": [
    "def simulator(theta, seed, simulator_args, batch):\n",
    "    return N_countsSimulator.simulation(theta, seed)\n",
    "\n",
    "simulator_args = None"
   ]
  },
  {
   "cell_type": "markdown",
   "metadata": {},
   "source": [
    "## Set up fake compressor for now"
   ]
  },
  {
   "cell_type": "code",
   "execution_count": null,
   "metadata": {},
   "outputs": [],
   "source": [
    "def compressor(data, compressor_args):\n",
    "    return data\n",
    "compressor_args=None"
   ]
  },
  {
   "cell_type": "markdown",
   "metadata": {},
   "source": [
    "## Load data"
   ]
  },
  {
   "cell_type": "code",
   "execution_count": null,
   "metadata": {},
   "outputs": [],
   "source": [
    "N_counts_data = np.load('N_counts_random_data.npy')\n",
    "N_counts_data"
   ]
  },
  {
   "cell_type": "markdown",
   "metadata": {},
   "source": [
    "## Define ensemble of NDEs"
   ]
  },
  {
   "cell_type": "code",
   "execution_count": null,
   "metadata": {},
   "outputs": [],
   "source": [
    "NDEs1 = [ndes.MixtureDensityNetwork(n_parameters=6, n_data=20, n_components=1, n_hidden=[30,30], activations=[tf.tanh, tf.tanh], index=0),\n",
    "       ndes.MixtureDensityNetwork(n_parameters=6, n_data=20, n_components=2, n_hidden=[30,30], activations=[tf.tanh, tf.tanh], index=1),\n",
    "       ndes.MixtureDensityNetwork(n_parameters=6, n_data=20, n_components=3, n_hidden=[30,30], activations=[tf.tanh, tf.tanh], index=2),\n",
    "       ndes.MixtureDensityNetwork(n_parameters=6, n_data=20, n_components=4, n_hidden=[30,30], activations=[tf.tanh, tf.tanh], index=3),\n",
    "       ndes.MixtureDensityNetwork(n_parameters=6, n_data=20, n_components=5, n_hidden=[30,30], activations=[tf.tanh, tf.tanh], index=4),\n",
    "       ndes.ConditionalMaskedAutoregressiveFlow(n_parameters=6, n_data=20, n_hiddens=[50,50], n_mades=5, act_fun=tf.tanh, index=5)]"
   ]
  },
  {
   "cell_type": "markdown",
   "metadata": {},
   "source": [
    "## Create DELFI object"
   ]
  },
  {
   "cell_type": "code",
   "execution_count": null,
   "metadata": {},
   "outputs": [],
   "source": [
    "DelfiEnsemble = delfi.Delfi(N_counts_data.reshape(20), prior, NDEs1, \n",
    "                            theta_fiducial = theta_fiducial, \n",
    "                            param_limits = [lower, upper],\n",
    "                            param_names = ['\\\\Omega_{cdm}h^{2}', '\\\\Omega_{b}h^{2}', '\\\\sigma_{8}', 'h', 'n_{s}', 'w_{0}'],\n",
    "                            results_dir = \"simulators/mass_function_n_counts/results/\")"
   ]
  },
  {
   "cell_type": "markdown",
   "metadata": {},
   "source": [
    "## Sequential Neural Likelihood"
   ]
  },
  {
   "cell_type": "code",
   "execution_count": null,
   "metadata": {},
   "outputs": [],
   "source": [
    "n_initial = 5 \n",
    "n_batch = 5 \n",
    "n_populations = 10 "
   ]
  },
  {
   "cell_type": "code",
   "execution_count": null,
   "metadata": {},
   "outputs": [],
   "source": [
    "DelfiEnsemble.sequential_training(simulator, compressor, n_initial, n_batch, n_populations, patience=20, \n",
    "                                  save_intermediate_posteriors=False)"
   ]
  },
  {
   "cell_type": "markdown",
   "metadata": {},
   "source": [
    "## Sample the learned posterior"
   ]
  },
  {
   "cell_type": "code",
   "execution_count": null,
   "metadata": {},
   "outputs": [],
   "source": [
    "x0 = DelfiEnsemble.posterior_samples[np.random.choice(np.arange(len(DelfiEnsemble.posterior_samples)), p=DelfiEnsemble.posterior_weights.astype(np.float32)/sum(DelfiEnsemble.posterior_weights), replace=False, size=DelfiEnsemble.nwalkers),:]\n",
    "posterior_samples, posterior_weights, log_prob = DelfiEnsemble.emcee_sample(x0=x0)"
   ]
  },
  {
   "cell_type": "markdown",
   "metadata": {},
   "source": [
    "## Alright let's plot it!\n",
    "Feed it a list of `(n_samples, n_parameters)` arrays for making a triangle plot; in this case let's just plot the posterior samples."
   ]
  },
  {
   "cell_type": "code",
   "execution_count": null,
   "metadata": {},
   "outputs": [],
   "source": [
    "DelfiEnsemble.triangle_plot(samples=[posterior_samples], weights=[posterior_weights])"
   ]
  },
  {
   "cell_type": "code",
   "execution_count": null,
   "metadata": {},
   "outputs": [],
   "source": []
  }
 ],
 "metadata": {
  "celltoolbar": "Slideshow",
  "kernelspec": {
   "display_name": "fast-mpi4py [~/.conda/envs/fast-mpi4py/]",
   "language": "python",
   "name": "conda_fast-mpi4py"
  },
  "language_info": {
   "codemirror_mode": {
    "name": "ipython",
    "version": 3
   },
   "file_extension": ".py",
   "mimetype": "text/x-python",
   "name": "python",
   "nbconvert_exporter": "python",
   "pygments_lexer": "ipython3",
   "version": "3.7.7"
  }
 },
 "nbformat": 4,
 "nbformat_minor": 2
}
